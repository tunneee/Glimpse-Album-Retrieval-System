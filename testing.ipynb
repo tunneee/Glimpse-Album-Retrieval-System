{
 "cells": [
  {
   "cell_type": "code",
   "execution_count": 1,
   "metadata": {},
   "outputs": [],
   "source": [
    "import pandas as pd\n",
    "import numpy as np\n",
    "import os\n",
    "\n",
    "from transformers import BertTokenizer, BertConfig\n",
    "from keras_preprocessing.sequence import pad_sequences\n",
    "from transformers import BertForTokenClassification, AdamW\n",
    "import torch\n",
    "import pickle\n",
    "import parsedatetime\n",
    "import datetime\n",
    "\n",
    "from utils import *"
   ]
  },
  {
   "cell_type": "code",
   "execution_count": 2,
   "metadata": {},
   "outputs": [
    {
     "data": {
      "text/plain": [
       "'d:\\\\Study\\\\Code\\\\AI\\\\Glimpse-Album-Retrieval-System'"
      ]
     },
     "execution_count": 2,
     "metadata": {},
     "output_type": "execute_result"
    }
   ],
   "source": [
    "os.getcwd()"
   ]
  },
  {
   "cell_type": "code",
   "execution_count": 3,
   "metadata": {},
   "outputs": [
    {
     "name": "stdout",
     "output_type": "stream",
     "text": [
      "d:\\Study\\Code\\AI\\Glimpse-Album-Retrieval-System\\ner_model_finetuned_bert.pth\n",
      "d:\\Study\\Code\\AI\\Glimpse-Album-Retrieval-System\\ner_tokenizer\n"
     ]
    }
   ],
   "source": [
    "PATH = os.path.join(os.getcwd(), \"ner_model_finetuned_bert.pth\")\n",
    "TOKENIZER_PATH = os.path.join(os.getcwd(), 'ner_tokenizer')\n",
    "\n",
    "print(PATH)\n",
    "print(TOKENIZER_PATH)"
   ]
  },
  {
   "cell_type": "code",
   "execution_count": 4,
   "metadata": {},
   "outputs": [
    {
     "data": {
      "text/plain": [
       "device(type='cuda')"
      ]
     },
     "execution_count": 4,
     "metadata": {},
     "output_type": "execute_result"
    }
   ],
   "source": [
    "device = torch.device('cuda' if torch.cuda.is_available() else 'cpu')\n",
    "device"
   ]
  },
  {
   "cell_type": "code",
   "execution_count": 5,
   "metadata": {},
   "outputs": [],
   "source": [
    "test_sentence = \"Tuong and Tin having dinner together in Ho Chi Minh City last month\""
   ]
  },
  {
   "cell_type": "code",
   "execution_count": 6,
   "metadata": {},
   "outputs": [
    {
     "data": {
      "text/plain": [
       "'4.34.0'"
      ]
     },
     "execution_count": 6,
     "metadata": {},
     "output_type": "execute_result"
    }
   ],
   "source": [
    "import transformers\n",
    "transformers.__version__"
   ]
  },
  {
   "cell_type": "code",
   "execution_count": 7,
   "metadata": {},
   "outputs": [
    {
     "name": "stderr",
     "output_type": "stream",
     "text": [
      "Special tokens have been added in the vocabulary, make sure the associated word embeddings are fine-tuned or trained.\n"
     ]
    }
   ],
   "source": [
    "model_fine_tuned = torch.load(PATH)\n",
    "model_fine_tuned = model_fine_tuned.to(device)\n",
    "\n",
    "# with open(TOKENIZER_PATH, 'rb') as handle:\n",
    "#     tokenizer_bert = pickle.load(handle)\n",
    "\n",
    "tokenizer_bert = BertTokenizer.from_pretrained(TOKENIZER_PATH)\n",
    "\n",
    "per_list, loc_list, tim_list, time_encoder_list = infor_recognition(model_fine_tuned, tokenizer_bert, test_sentence)"
   ]
  },
  {
   "cell_type": "code",
   "execution_count": 8,
   "metadata": {},
   "outputs": [
    {
     "name": "stdout",
     "output_type": "stream",
     "text": [
      "Persons:  ['Tuong', 'Tin']\n",
      "Locations:  ['Ho Chi Minh City']\n",
      "Original Time:  ['last month']\n",
      "Time encoding:  [1696093200.0]\n"
     ]
    }
   ],
   "source": [
    "print(\"Persons: \", per_list)\n",
    "print(\"Locations: \", loc_list)\n",
    "print(\"Original Time: \", tim_list)\n",
    "print(\"Time encoding: \", time_encoder_list)"
   ]
  }
 ],
 "metadata": {
  "kernelspec": {
   "display_name": "gpu",
   "language": "python",
   "name": "python3"
  },
  "language_info": {
   "codemirror_mode": {
    "name": "ipython",
    "version": 3
   },
   "file_extension": ".py",
   "mimetype": "text/x-python",
   "name": "python",
   "nbconvert_exporter": "python",
   "pygments_lexer": "ipython3",
   "version": "3.9.16"
  }
 },
 "nbformat": 4,
 "nbformat_minor": 2
}
