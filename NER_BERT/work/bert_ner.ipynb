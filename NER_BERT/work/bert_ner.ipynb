{
  "cells": [
    {
      "cell_type": "code",
      "execution_count": 1,
      "id": "cpTkyYpadZR2",
      "metadata": {
        "colab": {
          "base_uri": "https://localhost:8080/"
        },
        "id": "cpTkyYpadZR2",
        "outputId": "dd45dd80-f2c9-4448-f2b8-c3e01b60f2cf"
      },
      "outputs": [
        {
          "name": "stdout",
          "output_type": "stream",
          "text": [
            "\u001b[?25l     \u001b[90m━━━━━━━━━━━━━━━━━━━━━━━━━━━━━━━━━━━━━━━━\u001b[0m \u001b[32m0.0/43.6 kB\u001b[0m \u001b[31m?\u001b[0m eta \u001b[36m-:--:--\u001b[0m\r\u001b[2K     \u001b[90m━━━━━━━━━━━━━━━━━━━━━━━━━━━━━━━━━━━━━━━━\u001b[0m \u001b[32m43.6/43.6 kB\u001b[0m \u001b[31m1.0 MB/s\u001b[0m eta \u001b[36m0:00:00\u001b[0m\n",
            "\u001b[?25h  Preparing metadata (setup.py) ... \u001b[?25l\u001b[?25hdone\n",
            "  Building wheel for seqeval (setup.py) ... \u001b[?25l\u001b[?25hdone\n"
          ]
        }
      ],
      "source": [
        "!pip install transformers seqeval -q"
      ]
    },
    {
      "cell_type": "code",
      "execution_count": 2,
      "id": "LaPFemRWdY2W",
      "metadata": {
        "colab": {
          "base_uri": "https://localhost:8080/"
        },
        "id": "LaPFemRWdY2W",
        "outputId": "6e91ca94-698f-40d0-9f03-ad95e3d07181"
      },
      "outputs": [
        {
          "name": "stdout",
          "output_type": "stream",
          "text": [
            "Mounted at /content/drive\n"
          ]
        }
      ],
      "source": [
        "from google.colab import drive\n",
        "drive.mount('/content/drive')"
      ]
    },
    {
      "cell_type": "code",
      "execution_count": 3,
      "id": "m-Juub4zdbcc",
      "metadata": {
        "colab": {
          "base_uri": "https://localhost:8080/"
        },
        "id": "m-Juub4zdbcc",
        "outputId": "0a157e20-f2e5-4175-8119-776760394bcd"
      },
      "outputs": [
        {
          "name": "stdout",
          "output_type": "stream",
          "text": [
            "/content/drive/MyDrive/work\n"
          ]
        }
      ],
      "source": [
        "%cd drive/MyDrive/work"
      ]
    },
    {
      "cell_type": "code",
      "execution_count": 4,
      "id": "0Ct-IkDydK8T",
      "metadata": {
        "colab": {
          "base_uri": "https://localhost:8080/"
        },
        "id": "0Ct-IkDydK8T",
        "outputId": "9f3948af-2d4a-405f-dc12-9f8c5a98d4d0"
      },
      "outputs": [
        {
          "name": "stdout",
          "output_type": "stream",
          "text": [
            "Requirement already satisfied: accelerate in /usr/local/lib/python3.10/dist-packages (0.23.0)\n",
            "Requirement already satisfied: numpy>=1.17 in /usr/local/lib/python3.10/dist-packages (from accelerate) (1.23.5)\n",
            "Requirement already satisfied: packaging>=20.0 in /usr/local/lib/python3.10/dist-packages (from accelerate) (23.2)\n",
            "Requirement already satisfied: psutil in /usr/local/lib/python3.10/dist-packages (from accelerate) (5.9.5)\n",
            "Requirement already satisfied: pyyaml in /usr/local/lib/python3.10/dist-packages (from accelerate) (6.0.1)\n",
            "Requirement already satisfied: torch>=1.10.0 in /usr/local/lib/python3.10/dist-packages (from accelerate) (2.0.1+cu118)\n",
            "Requirement already satisfied: huggingface-hub in /usr/local/lib/python3.10/dist-packages (from accelerate) (0.17.3)\n",
            "Requirement already satisfied: filelock in /usr/local/lib/python3.10/dist-packages (from torch>=1.10.0->accelerate) (3.12.4)\n",
            "Requirement already satisfied: typing-extensions in /usr/local/lib/python3.10/dist-packages (from torch>=1.10.0->accelerate) (4.5.0)\n",
            "Requirement already satisfied: sympy in /usr/local/lib/python3.10/dist-packages (from torch>=1.10.0->accelerate) (1.12)\n",
            "Requirement already satisfied: networkx in /usr/local/lib/python3.10/dist-packages (from torch>=1.10.0->accelerate) (3.1)\n",
            "Requirement already satisfied: jinja2 in /usr/local/lib/python3.10/dist-packages (from torch>=1.10.0->accelerate) (3.1.2)\n",
            "Requirement already satisfied: triton==2.0.0 in /usr/local/lib/python3.10/dist-packages (from torch>=1.10.0->accelerate) (2.0.0)\n",
            "Requirement already satisfied: cmake in /usr/local/lib/python3.10/dist-packages (from triton==2.0.0->torch>=1.10.0->accelerate) (3.27.6)\n",
            "Requirement already satisfied: lit in /usr/local/lib/python3.10/dist-packages (from triton==2.0.0->torch>=1.10.0->accelerate) (17.0.2)\n",
            "Requirement already satisfied: fsspec in /usr/local/lib/python3.10/dist-packages (from huggingface-hub->accelerate) (2023.6.0)\n",
            "Requirement already satisfied: requests in /usr/local/lib/python3.10/dist-packages (from huggingface-hub->accelerate) (2.31.0)\n",
            "Requirement already satisfied: tqdm>=4.42.1 in /usr/local/lib/python3.10/dist-packages (from huggingface-hub->accelerate) (4.66.1)\n",
            "Requirement already satisfied: MarkupSafe>=2.0 in /usr/local/lib/python3.10/dist-packages (from jinja2->torch>=1.10.0->accelerate) (2.1.3)\n",
            "Requirement already satisfied: charset-normalizer<4,>=2 in /usr/local/lib/python3.10/dist-packages (from requests->huggingface-hub->accelerate) (3.3.0)\n",
            "Requirement already satisfied: idna<4,>=2.5 in /usr/local/lib/python3.10/dist-packages (from requests->huggingface-hub->accelerate) (3.4)\n",
            "Requirement already satisfied: urllib3<3,>=1.21.1 in /usr/local/lib/python3.10/dist-packages (from requests->huggingface-hub->accelerate) (2.0.6)\n",
            "Requirement already satisfied: certifi>=2017.4.17 in /usr/local/lib/python3.10/dist-packages (from requests->huggingface-hub->accelerate) (2023.7.22)\n",
            "Requirement already satisfied: mpmath>=0.19 in /usr/local/lib/python3.10/dist-packages (from sympy->torch>=1.10.0->accelerate) (1.3.0)\n"
          ]
        }
      ],
      "source": [
        "!pip install accelerate -U"
      ]
    },
    {
      "cell_type": "code",
      "execution_count": 5,
      "id": "dODaCKSrdHCk",
      "metadata": {
        "colab": {
          "base_uri": "https://localhost:8080/"
        },
        "id": "dODaCKSrdHCk",
        "outputId": "bd97d0db-4566-4d28-93be-7a5fd74403cd"
      },
      "outputs": [
        {
          "name": "stdout",
          "output_type": "stream",
          "text": [
            "Requirement already satisfied: transformers[torch] in /usr/local/lib/python3.10/dist-packages (4.34.0)\n",
            "Requirement already satisfied: filelock in /usr/local/lib/python3.10/dist-packages (from transformers[torch]) (3.12.4)\n",
            "Requirement already satisfied: huggingface-hub<1.0,>=0.16.4 in /usr/local/lib/python3.10/dist-packages (from transformers[torch]) (0.17.3)\n",
            "Requirement already satisfied: numpy>=1.17 in /usr/local/lib/python3.10/dist-packages (from transformers[torch]) (1.23.5)\n",
            "Requirement already satisfied: packaging>=20.0 in /usr/local/lib/python3.10/dist-packages (from transformers[torch]) (23.2)\n",
            "Requirement already satisfied: pyyaml>=5.1 in /usr/local/lib/python3.10/dist-packages (from transformers[torch]) (6.0.1)\n",
            "Requirement already satisfied: regex!=2019.12.17 in /usr/local/lib/python3.10/dist-packages (from transformers[torch]) (2023.6.3)\n",
            "Requirement already satisfied: requests in /usr/local/lib/python3.10/dist-packages (from transformers[torch]) (2.31.0)\n",
            "Requirement already satisfied: tokenizers<0.15,>=0.14 in /usr/local/lib/python3.10/dist-packages (from transformers[torch]) (0.14.1)\n",
            "Requirement already satisfied: safetensors>=0.3.1 in /usr/local/lib/python3.10/dist-packages (from transformers[torch]) (0.4.0)\n",
            "Requirement already satisfied: tqdm>=4.27 in /usr/local/lib/python3.10/dist-packages (from transformers[torch]) (4.66.1)\n",
            "Requirement already satisfied: torch!=1.12.0,>=1.10 in /usr/local/lib/python3.10/dist-packages (from transformers[torch]) (2.0.1+cu118)\n",
            "Requirement already satisfied: accelerate>=0.20.3 in /usr/local/lib/python3.10/dist-packages (from transformers[torch]) (0.23.0)\n",
            "Requirement already satisfied: psutil in /usr/local/lib/python3.10/dist-packages (from accelerate>=0.20.3->transformers[torch]) (5.9.5)\n",
            "Requirement already satisfied: fsspec in /usr/local/lib/python3.10/dist-packages (from huggingface-hub<1.0,>=0.16.4->transformers[torch]) (2023.6.0)\n",
            "Requirement already satisfied: typing-extensions>=3.7.4.3 in /usr/local/lib/python3.10/dist-packages (from huggingface-hub<1.0,>=0.16.4->transformers[torch]) (4.5.0)\n",
            "Requirement already satisfied: sympy in /usr/local/lib/python3.10/dist-packages (from torch!=1.12.0,>=1.10->transformers[torch]) (1.12)\n",
            "Requirement already satisfied: networkx in /usr/local/lib/python3.10/dist-packages (from torch!=1.12.0,>=1.10->transformers[torch]) (3.1)\n",
            "Requirement already satisfied: jinja2 in /usr/local/lib/python3.10/dist-packages (from torch!=1.12.0,>=1.10->transformers[torch]) (3.1.2)\n",
            "Requirement already satisfied: triton==2.0.0 in /usr/local/lib/python3.10/dist-packages (from torch!=1.12.0,>=1.10->transformers[torch]) (2.0.0)\n",
            "Requirement already satisfied: cmake in /usr/local/lib/python3.10/dist-packages (from triton==2.0.0->torch!=1.12.0,>=1.10->transformers[torch]) (3.27.6)\n",
            "Requirement already satisfied: lit in /usr/local/lib/python3.10/dist-packages (from triton==2.0.0->torch!=1.12.0,>=1.10->transformers[torch]) (17.0.2)\n",
            "Requirement already satisfied: charset-normalizer<4,>=2 in /usr/local/lib/python3.10/dist-packages (from requests->transformers[torch]) (3.3.0)\n",
            "Requirement already satisfied: idna<4,>=2.5 in /usr/local/lib/python3.10/dist-packages (from requests->transformers[torch]) (3.4)\n",
            "Requirement already satisfied: urllib3<3,>=1.21.1 in /usr/local/lib/python3.10/dist-packages (from requests->transformers[torch]) (2.0.6)\n",
            "Requirement already satisfied: certifi>=2017.4.17 in /usr/local/lib/python3.10/dist-packages (from requests->transformers[torch]) (2023.7.22)\n",
            "Requirement already satisfied: MarkupSafe>=2.0 in /usr/local/lib/python3.10/dist-packages (from jinja2->torch!=1.12.0,>=1.10->transformers[torch]) (2.1.3)\n",
            "Requirement already satisfied: mpmath>=0.19 in /usr/local/lib/python3.10/dist-packages (from sympy->torch!=1.12.0,>=1.10->transformers[torch]) (1.3.0)\n"
          ]
        }
      ],
      "source": [
        "!pip install transformers[torch]"
      ]
    },
    {
      "cell_type": "code",
      "execution_count": 6,
      "id": "GSBvQCkHe3Q5",
      "metadata": {
        "colab": {
          "base_uri": "https://localhost:8080/"
        },
        "id": "GSBvQCkHe3Q5",
        "outputId": "154086cf-1c23-461a-dac7-14f891c6fa17"
      },
      "outputs": [
        {
          "name": "stdout",
          "output_type": "stream",
          "text": [
            "Collecting Keras-Preprocessing\n",
            "  Downloading Keras_Preprocessing-1.1.2-py2.py3-none-any.whl (42 kB)\n",
            "\u001b[?25l     \u001b[90m━━━━━━━━━━━━━━━━━━━━━━━━━━━━━━━━━━━━━━━━\u001b[0m \u001b[32m0.0/42.6 kB\u001b[0m \u001b[31m?\u001b[0m eta \u001b[36m-:--:--\u001b[0m\r\u001b[2K     \u001b[90m━━━━━━━━━━━━━━━━━━━━━━━━━━━━━━━━━━━━━━━━\u001b[0m \u001b[32m42.6/42.6 kB\u001b[0m \u001b[31m1.1 MB/s\u001b[0m eta \u001b[36m0:00:00\u001b[0m\n",
            "\u001b[?25hRequirement already satisfied: numpy>=1.9.1 in /usr/local/lib/python3.10/dist-packages (from Keras-Preprocessing) (1.23.5)\n",
            "Requirement already satisfied: six>=1.9.0 in /usr/local/lib/python3.10/dist-packages (from Keras-Preprocessing) (1.16.0)\n",
            "Installing collected packages: Keras-Preprocessing\n",
            "Successfully installed Keras-Preprocessing-1.1.2\n"
          ]
        }
      ],
      "source": [
        "!pip install Keras-Preprocessing"
      ]
    },
    {
      "cell_type": "code",
      "execution_count": 7,
      "id": "yKNq6x82deW4",
      "metadata": {
        "id": "yKNq6x82deW4"
      },
      "outputs": [],
      "source": [
        "from utils import get_params, get_vocab\n",
        "import pandas as pd\n",
        "import numpy as np\n",
        "\n",
        "from transformers import BertTokenizer, BertConfig\n",
        "from sklearn.model_selection import train_test_split\n",
        "from keras_preprocessing.sequence import pad_sequences\n",
        "from transformers import BertForTokenClassification, AdamW\n",
        "\n",
        "import torch\n",
        "from torch.utils.data import TensorDataset, DataLoader, RandomSampler, SequentialSampler"
      ]
    },
    {
      "cell_type": "code",
      "execution_count": 8,
      "id": "c824099f",
      "metadata": {
        "execution": {
          "iopub.execute_input": "2022-01-28T03:21:28.307024Z",
          "iopub.status.busy": "2022-01-28T03:21:28.306035Z",
          "iopub.status.idle": "2022-01-28T03:21:28.945891Z",
          "shell.execute_reply": "2022-01-28T03:21:28.945342Z",
          "shell.execute_reply.started": "2022-01-27T19:35:43.408995Z"
        },
        "id": "c824099f",
        "papermill": {
          "duration": 0.703775,
          "end_time": "2022-01-28T03:21:28.946022",
          "exception": false,
          "start_time": "2022-01-28T03:21:28.242247",
          "status": "completed"
        },
        "tags": []
      },
      "outputs": [],
      "source": [
        "vocab, tag_map = get_vocab('data/large/words.txt', 'data/large/tags.txt')\n",
        "t_sentences, t_labels, t_size = get_params(vocab, tag_map, 'data/large/train/sentences.txt', 'data/large/train/labels.txt')\n",
        "v_sentences, v_labels, v_size = get_params(vocab, tag_map, 'data/large/val/sentences.txt', 'data/large/val/labels.txt')\n",
        "test_sentences, test_labels, test_size = get_params(vocab, tag_map, 'data/large/test/sentences.txt', 'data/large/test/labels.txt')"
      ]
    },
    {
      "cell_type": "code",
      "execution_count": 9,
      "id": "OnU5LAJkdjEW",
      "metadata": {
        "colab": {
          "base_uri": "https://localhost:8080/"
        },
        "id": "OnU5LAJkdjEW",
        "outputId": "42eb8a7c-4076-4a2e-87a3-65218833b595"
      },
      "outputs": [
        {
          "name": "stdout",
          "output_type": "stream",
          "text": [
            "SENTENCE: Thousands of demonstrators have marched through London to protest the war in Iraq and demand the withdrawal of British troops from that country .\n",
            "\n",
            "SENTENCE LABEL: O O O O O O B-geo O O O O O B-geo O O O O O B-gpe O O O O O\n",
            "\n"
          ]
        }
      ],
      "source": [
        "data = pd.read_csv(\"data/ner_dataset.csv\", encoding = \"ISO-8859-1\")\n",
        "train_sents = open('data/small/train/sentences.txt', 'r').readline()\n",
        "train_labels = open('data/small/train/labels.txt', 'r').readline()\n",
        "print('SENTENCE:', train_sents)\n",
        "print('SENTENCE LABEL:', train_labels)"
      ]
    },
    {
      "cell_type": "code",
      "execution_count": 10,
      "id": "abdc26cc",
      "metadata": {
        "colab": {
          "base_uri": "https://localhost:8080/",
          "height": 206
        },
        "execution": {
          "iopub.execute_input": "2022-01-28T03:21:29.030192Z",
          "iopub.status.busy": "2022-01-28T03:21:29.029376Z",
          "iopub.status.idle": "2022-01-28T03:21:29.042297Z",
          "shell.execute_reply": "2022-01-28T03:21:29.042729Z",
          "shell.execute_reply.started": "2022-01-27T19:35:44.016655Z"
        },
        "id": "abdc26cc",
        "outputId": "6a51db53-3735-4d1f-c39e-5b02a228f0e7",
        "papermill": {
          "duration": 0.058649,
          "end_time": "2022-01-28T03:21:29.042869",
          "exception": false,
          "start_time": "2022-01-28T03:21:28.984220",
          "status": "completed"
        },
        "tags": []
      },
      "outputs": [
        {
          "data": {
            "text/html": [
              "\n",
              "  <div id=\"df-e38d2076-5496-4287-9bd8-012d908f21ad\" class=\"colab-df-container\">\n",
              "    <div>\n",
              "<style scoped>\n",
              "    .dataframe tbody tr th:only-of-type {\n",
              "        vertical-align: middle;\n",
              "    }\n",
              "\n",
              "    .dataframe tbody tr th {\n",
              "        vertical-align: top;\n",
              "    }\n",
              "\n",
              "    .dataframe thead th {\n",
              "        text-align: right;\n",
              "    }\n",
              "</style>\n",
              "<table border=\"1\" class=\"dataframe\">\n",
              "  <thead>\n",
              "    <tr style=\"text-align: right;\">\n",
              "      <th></th>\n",
              "      <th>Sentence #</th>\n",
              "      <th>Word</th>\n",
              "      <th>POS</th>\n",
              "      <th>Tag</th>\n",
              "    </tr>\n",
              "  </thead>\n",
              "  <tbody>\n",
              "    <tr>\n",
              "      <th>0</th>\n",
              "      <td>Sentence: 1</td>\n",
              "      <td>Thousands</td>\n",
              "      <td>NNS</td>\n",
              "      <td>O</td>\n",
              "    </tr>\n",
              "    <tr>\n",
              "      <th>1</th>\n",
              "      <td>NaN</td>\n",
              "      <td>of</td>\n",
              "      <td>IN</td>\n",
              "      <td>O</td>\n",
              "    </tr>\n",
              "    <tr>\n",
              "      <th>2</th>\n",
              "      <td>NaN</td>\n",
              "      <td>demonstrators</td>\n",
              "      <td>NNS</td>\n",
              "      <td>O</td>\n",
              "    </tr>\n",
              "    <tr>\n",
              "      <th>3</th>\n",
              "      <td>NaN</td>\n",
              "      <td>have</td>\n",
              "      <td>VBP</td>\n",
              "      <td>O</td>\n",
              "    </tr>\n",
              "    <tr>\n",
              "      <th>4</th>\n",
              "      <td>NaN</td>\n",
              "      <td>marched</td>\n",
              "      <td>VBN</td>\n",
              "      <td>O</td>\n",
              "    </tr>\n",
              "  </tbody>\n",
              "</table>\n",
              "</div>\n",
              "    <div class=\"colab-df-buttons\">\n",
              "\n",
              "  <div class=\"colab-df-container\">\n",
              "    <button class=\"colab-df-convert\" onclick=\"convertToInteractive('df-e38d2076-5496-4287-9bd8-012d908f21ad')\"\n",
              "            title=\"Convert this dataframe to an interactive table.\"\n",
              "            style=\"display:none;\">\n",
              "\n",
              "  <svg xmlns=\"http://www.w3.org/2000/svg\" height=\"24px\" viewBox=\"0 -960 960 960\">\n",
              "    <path d=\"M120-120v-720h720v720H120Zm60-500h600v-160H180v160Zm220 220h160v-160H400v160Zm0 220h160v-160H400v160ZM180-400h160v-160H180v160Zm440 0h160v-160H620v160ZM180-180h160v-160H180v160Zm440 0h160v-160H620v160Z\"/>\n",
              "  </svg>\n",
              "    </button>\n",
              "\n",
              "  <style>\n",
              "    .colab-df-container {\n",
              "      display:flex;\n",
              "      gap: 12px;\n",
              "    }\n",
              "\n",
              "    .colab-df-convert {\n",
              "      background-color: #E8F0FE;\n",
              "      border: none;\n",
              "      border-radius: 50%;\n",
              "      cursor: pointer;\n",
              "      display: none;\n",
              "      fill: #1967D2;\n",
              "      height: 32px;\n",
              "      padding: 0 0 0 0;\n",
              "      width: 32px;\n",
              "    }\n",
              "\n",
              "    .colab-df-convert:hover {\n",
              "      background-color: #E2EBFA;\n",
              "      box-shadow: 0px 1px 2px rgba(60, 64, 67, 0.3), 0px 1px 3px 1px rgba(60, 64, 67, 0.15);\n",
              "      fill: #174EA6;\n",
              "    }\n",
              "\n",
              "    .colab-df-buttons div {\n",
              "      margin-bottom: 4px;\n",
              "    }\n",
              "\n",
              "    [theme=dark] .colab-df-convert {\n",
              "      background-color: #3B4455;\n",
              "      fill: #D2E3FC;\n",
              "    }\n",
              "\n",
              "    [theme=dark] .colab-df-convert:hover {\n",
              "      background-color: #434B5C;\n",
              "      box-shadow: 0px 1px 3px 1px rgba(0, 0, 0, 0.15);\n",
              "      filter: drop-shadow(0px 1px 2px rgba(0, 0, 0, 0.3));\n",
              "      fill: #FFFFFF;\n",
              "    }\n",
              "  </style>\n",
              "\n",
              "    <script>\n",
              "      const buttonEl =\n",
              "        document.querySelector('#df-e38d2076-5496-4287-9bd8-012d908f21ad button.colab-df-convert');\n",
              "      buttonEl.style.display =\n",
              "        google.colab.kernel.accessAllowed ? 'block' : 'none';\n",
              "\n",
              "      async function convertToInteractive(key) {\n",
              "        const element = document.querySelector('#df-e38d2076-5496-4287-9bd8-012d908f21ad');\n",
              "        const dataTable =\n",
              "          await google.colab.kernel.invokeFunction('convertToInteractive',\n",
              "                                                    [key], {});\n",
              "        if (!dataTable) return;\n",
              "\n",
              "        const docLinkHtml = 'Like what you see? Visit the ' +\n",
              "          '<a target=\"_blank\" href=https://colab.research.google.com/notebooks/data_table.ipynb>data table notebook</a>'\n",
              "          + ' to learn more about interactive tables.';\n",
              "        element.innerHTML = '';\n",
              "        dataTable['output_type'] = 'display_data';\n",
              "        await google.colab.output.renderOutput(dataTable, element);\n",
              "        const docLink = document.createElement('div');\n",
              "        docLink.innerHTML = docLinkHtml;\n",
              "        element.appendChild(docLink);\n",
              "      }\n",
              "    </script>\n",
              "  </div>\n",
              "\n",
              "\n",
              "<div id=\"df-f6ba9169-92c9-4285-9011-7d648a59f59a\">\n",
              "  <button class=\"colab-df-quickchart\" onclick=\"quickchart('df-f6ba9169-92c9-4285-9011-7d648a59f59a')\"\n",
              "            title=\"Suggest charts.\"\n",
              "            style=\"display:none;\">\n",
              "\n",
              "<svg xmlns=\"http://www.w3.org/2000/svg\" height=\"24px\"viewBox=\"0 0 24 24\"\n",
              "     width=\"24px\">\n",
              "    <g>\n",
              "        <path d=\"M19 3H5c-1.1 0-2 .9-2 2v14c0 1.1.9 2 2 2h14c1.1 0 2-.9 2-2V5c0-1.1-.9-2-2-2zM9 17H7v-7h2v7zm4 0h-2V7h2v10zm4 0h-2v-4h2v4z\"/>\n",
              "    </g>\n",
              "</svg>\n",
              "  </button>\n",
              "\n",
              "<style>\n",
              "  .colab-df-quickchart {\n",
              "      --bg-color: #E8F0FE;\n",
              "      --fill-color: #1967D2;\n",
              "      --hover-bg-color: #E2EBFA;\n",
              "      --hover-fill-color: #174EA6;\n",
              "      --disabled-fill-color: #AAA;\n",
              "      --disabled-bg-color: #DDD;\n",
              "  }\n",
              "\n",
              "  [theme=dark] .colab-df-quickchart {\n",
              "      --bg-color: #3B4455;\n",
              "      --fill-color: #D2E3FC;\n",
              "      --hover-bg-color: #434B5C;\n",
              "      --hover-fill-color: #FFFFFF;\n",
              "      --disabled-bg-color: #3B4455;\n",
              "      --disabled-fill-color: #666;\n",
              "  }\n",
              "\n",
              "  .colab-df-quickchart {\n",
              "    background-color: var(--bg-color);\n",
              "    border: none;\n",
              "    border-radius: 50%;\n",
              "    cursor: pointer;\n",
              "    display: none;\n",
              "    fill: var(--fill-color);\n",
              "    height: 32px;\n",
              "    padding: 0;\n",
              "    width: 32px;\n",
              "  }\n",
              "\n",
              "  .colab-df-quickchart:hover {\n",
              "    background-color: var(--hover-bg-color);\n",
              "    box-shadow: 0 1px 2px rgba(60, 64, 67, 0.3), 0 1px 3px 1px rgba(60, 64, 67, 0.15);\n",
              "    fill: var(--button-hover-fill-color);\n",
              "  }\n",
              "\n",
              "  .colab-df-quickchart-complete:disabled,\n",
              "  .colab-df-quickchart-complete:disabled:hover {\n",
              "    background-color: var(--disabled-bg-color);\n",
              "    fill: var(--disabled-fill-color);\n",
              "    box-shadow: none;\n",
              "  }\n",
              "\n",
              "  .colab-df-spinner {\n",
              "    border: 2px solid var(--fill-color);\n",
              "    border-color: transparent;\n",
              "    border-bottom-color: var(--fill-color);\n",
              "    animation:\n",
              "      spin 1s steps(1) infinite;\n",
              "  }\n",
              "\n",
              "  @keyframes spin {\n",
              "    0% {\n",
              "      border-color: transparent;\n",
              "      border-bottom-color: var(--fill-color);\n",
              "      border-left-color: var(--fill-color);\n",
              "    }\n",
              "    20% {\n",
              "      border-color: transparent;\n",
              "      border-left-color: var(--fill-color);\n",
              "      border-top-color: var(--fill-color);\n",
              "    }\n",
              "    30% {\n",
              "      border-color: transparent;\n",
              "      border-left-color: var(--fill-color);\n",
              "      border-top-color: var(--fill-color);\n",
              "      border-right-color: var(--fill-color);\n",
              "    }\n",
              "    40% {\n",
              "      border-color: transparent;\n",
              "      border-right-color: var(--fill-color);\n",
              "      border-top-color: var(--fill-color);\n",
              "    }\n",
              "    60% {\n",
              "      border-color: transparent;\n",
              "      border-right-color: var(--fill-color);\n",
              "    }\n",
              "    80% {\n",
              "      border-color: transparent;\n",
              "      border-right-color: var(--fill-color);\n",
              "      border-bottom-color: var(--fill-color);\n",
              "    }\n",
              "    90% {\n",
              "      border-color: transparent;\n",
              "      border-bottom-color: var(--fill-color);\n",
              "    }\n",
              "  }\n",
              "</style>\n",
              "\n",
              "  <script>\n",
              "    async function quickchart(key) {\n",
              "      const quickchartButtonEl =\n",
              "        document.querySelector('#' + key + ' button');\n",
              "      quickchartButtonEl.disabled = true;  // To prevent multiple clicks.\n",
              "      quickchartButtonEl.classList.add('colab-df-spinner');\n",
              "      try {\n",
              "        const charts = await google.colab.kernel.invokeFunction(\n",
              "            'suggestCharts', [key], {});\n",
              "      } catch (error) {\n",
              "        console.error('Error during call to suggestCharts:', error);\n",
              "      }\n",
              "      quickchartButtonEl.classList.remove('colab-df-spinner');\n",
              "      quickchartButtonEl.classList.add('colab-df-quickchart-complete');\n",
              "    }\n",
              "    (() => {\n",
              "      let quickchartButtonEl =\n",
              "        document.querySelector('#df-f6ba9169-92c9-4285-9011-7d648a59f59a button');\n",
              "      quickchartButtonEl.style.display =\n",
              "        google.colab.kernel.accessAllowed ? 'block' : 'none';\n",
              "    })();\n",
              "  </script>\n",
              "</div>\n",
              "    </div>\n",
              "  </div>\n"
            ],
            "text/plain": [
              "    Sentence #           Word  POS Tag\n",
              "0  Sentence: 1      Thousands  NNS   O\n",
              "1          NaN             of   IN   O\n",
              "2          NaN  demonstrators  NNS   O\n",
              "3          NaN           have  VBP   O\n",
              "4          NaN        marched  VBN   O"
            ]
          },
          "execution_count": 10,
          "metadata": {},
          "output_type": "execute_result"
        }
      ],
      "source": [
        "data.head()"
      ]
    },
    {
      "cell_type": "code",
      "execution_count": 11,
      "id": "1e7ae3a1",
      "metadata": {
        "execution": {
          "iopub.execute_input": "2022-01-28T03:21:29.511037Z",
          "iopub.status.busy": "2022-01-28T03:21:29.510009Z",
          "iopub.status.idle": "2022-01-28T03:21:29.531379Z",
          "shell.execute_reply": "2022-01-28T03:21:29.531893Z",
          "shell.execute_reply.started": "2022-01-27T19:35:44.039851Z"
        },
        "id": "1e7ae3a1",
        "papermill": {
          "duration": 0.44851,
          "end_time": "2022-01-28T03:21:29.532054",
          "exception": false,
          "start_time": "2022-01-28T03:21:29.083544",
          "status": "completed"
        },
        "tags": []
      },
      "outputs": [],
      "source": [
        "data = data.fillna(method='ffill')"
      ]
    },
    {
      "cell_type": "code",
      "execution_count": 13,
      "id": "5679cfff",
      "metadata": {
        "colab": {
          "base_uri": "https://localhost:8080/",
          "height": 206
        },
        "execution": {
          "iopub.execute_input": "2022-01-28T03:21:29.708630Z",
          "iopub.status.busy": "2022-01-28T03:21:29.707607Z",
          "iopub.status.idle": "2022-01-28T03:21:29.904017Z",
          "shell.execute_reply": "2022-01-28T03:21:29.904406Z",
          "shell.execute_reply.started": "2022-01-27T19:35:44.434111Z"
        },
        "id": "5679cfff",
        "outputId": "f2959185-9981-40ed-f49c-3cfbfa2dc209",
        "papermill": {
          "duration": 0.334018,
          "end_time": "2022-01-28T03:21:29.904558",
          "exception": false,
          "start_time": "2022-01-28T03:21:29.570540",
          "status": "completed"
        },
        "tags": []
      },
      "outputs": [
        {
          "data": {
            "text/html": [
              "\n",
              "  <div id=\"df-abd48057-8112-498a-952c-22b0b3639754\" class=\"colab-df-container\">\n",
              "    <div>\n",
              "<style scoped>\n",
              "    .dataframe tbody tr th:only-of-type {\n",
              "        vertical-align: middle;\n",
              "    }\n",
              "\n",
              "    .dataframe tbody tr th {\n",
              "        vertical-align: top;\n",
              "    }\n",
              "\n",
              "    .dataframe thead th {\n",
              "        text-align: right;\n",
              "    }\n",
              "</style>\n",
              "<table border=\"1\" class=\"dataframe\">\n",
              "  <thead>\n",
              "    <tr style=\"text-align: right;\">\n",
              "      <th></th>\n",
              "      <th>Sentence #</th>\n",
              "      <th>Word</th>\n",
              "      <th>Tag</th>\n",
              "    </tr>\n",
              "  </thead>\n",
              "  <tbody>\n",
              "    <tr>\n",
              "      <th>0</th>\n",
              "      <td>Sentence: 1</td>\n",
              "      <td>Thousands</td>\n",
              "      <td>O</td>\n",
              "    </tr>\n",
              "    <tr>\n",
              "      <th>1</th>\n",
              "      <td>Sentence: 1</td>\n",
              "      <td>of</td>\n",
              "      <td>O</td>\n",
              "    </tr>\n",
              "    <tr>\n",
              "      <th>2</th>\n",
              "      <td>Sentence: 1</td>\n",
              "      <td>demonstrators</td>\n",
              "      <td>O</td>\n",
              "    </tr>\n",
              "    <tr>\n",
              "      <th>3</th>\n",
              "      <td>Sentence: 1</td>\n",
              "      <td>have</td>\n",
              "      <td>O</td>\n",
              "    </tr>\n",
              "    <tr>\n",
              "      <th>4</th>\n",
              "      <td>Sentence: 1</td>\n",
              "      <td>marched</td>\n",
              "      <td>O</td>\n",
              "    </tr>\n",
              "  </tbody>\n",
              "</table>\n",
              "</div>\n",
              "    <div class=\"colab-df-buttons\">\n",
              "\n",
              "  <div class=\"colab-df-container\">\n",
              "    <button class=\"colab-df-convert\" onclick=\"convertToInteractive('df-abd48057-8112-498a-952c-22b0b3639754')\"\n",
              "            title=\"Convert this dataframe to an interactive table.\"\n",
              "            style=\"display:none;\">\n",
              "\n",
              "  <svg xmlns=\"http://www.w3.org/2000/svg\" height=\"24px\" viewBox=\"0 -960 960 960\">\n",
              "    <path d=\"M120-120v-720h720v720H120Zm60-500h600v-160H180v160Zm220 220h160v-160H400v160Zm0 220h160v-160H400v160ZM180-400h160v-160H180v160Zm440 0h160v-160H620v160ZM180-180h160v-160H180v160Zm440 0h160v-160H620v160Z\"/>\n",
              "  </svg>\n",
              "    </button>\n",
              "\n",
              "  <style>\n",
              "    .colab-df-container {\n",
              "      display:flex;\n",
              "      gap: 12px;\n",
              "    }\n",
              "\n",
              "    .colab-df-convert {\n",
              "      background-color: #E8F0FE;\n",
              "      border: none;\n",
              "      border-radius: 50%;\n",
              "      cursor: pointer;\n",
              "      display: none;\n",
              "      fill: #1967D2;\n",
              "      height: 32px;\n",
              "      padding: 0 0 0 0;\n",
              "      width: 32px;\n",
              "    }\n",
              "\n",
              "    .colab-df-convert:hover {\n",
              "      background-color: #E2EBFA;\n",
              "      box-shadow: 0px 1px 2px rgba(60, 64, 67, 0.3), 0px 1px 3px 1px rgba(60, 64, 67, 0.15);\n",
              "      fill: #174EA6;\n",
              "    }\n",
              "\n",
              "    .colab-df-buttons div {\n",
              "      margin-bottom: 4px;\n",
              "    }\n",
              "\n",
              "    [theme=dark] .colab-df-convert {\n",
              "      background-color: #3B4455;\n",
              "      fill: #D2E3FC;\n",
              "    }\n",
              "\n",
              "    [theme=dark] .colab-df-convert:hover {\n",
              "      background-color: #434B5C;\n",
              "      box-shadow: 0px 1px 3px 1px rgba(0, 0, 0, 0.15);\n",
              "      filter: drop-shadow(0px 1px 2px rgba(0, 0, 0, 0.3));\n",
              "      fill: #FFFFFF;\n",
              "    }\n",
              "  </style>\n",
              "\n",
              "    <script>\n",
              "      const buttonEl =\n",
              "        document.querySelector('#df-abd48057-8112-498a-952c-22b0b3639754 button.colab-df-convert');\n",
              "      buttonEl.style.display =\n",
              "        google.colab.kernel.accessAllowed ? 'block' : 'none';\n",
              "\n",
              "      async function convertToInteractive(key) {\n",
              "        const element = document.querySelector('#df-abd48057-8112-498a-952c-22b0b3639754');\n",
              "        const dataTable =\n",
              "          await google.colab.kernel.invokeFunction('convertToInteractive',\n",
              "                                                    [key], {});\n",
              "        if (!dataTable) return;\n",
              "\n",
              "        const docLinkHtml = 'Like what you see? Visit the ' +\n",
              "          '<a target=\"_blank\" href=https://colab.research.google.com/notebooks/data_table.ipynb>data table notebook</a>'\n",
              "          + ' to learn more about interactive tables.';\n",
              "        element.innerHTML = '';\n",
              "        dataTable['output_type'] = 'display_data';\n",
              "        await google.colab.output.renderOutput(dataTable, element);\n",
              "        const docLink = document.createElement('div');\n",
              "        docLink.innerHTML = docLinkHtml;\n",
              "        element.appendChild(docLink);\n",
              "      }\n",
              "    </script>\n",
              "  </div>\n",
              "\n",
              "\n",
              "<div id=\"df-8f761518-9f32-4726-9ed2-8271c37fa715\">\n",
              "  <button class=\"colab-df-quickchart\" onclick=\"quickchart('df-8f761518-9f32-4726-9ed2-8271c37fa715')\"\n",
              "            title=\"Suggest charts.\"\n",
              "            style=\"display:none;\">\n",
              "\n",
              "<svg xmlns=\"http://www.w3.org/2000/svg\" height=\"24px\"viewBox=\"0 0 24 24\"\n",
              "     width=\"24px\">\n",
              "    <g>\n",
              "        <path d=\"M19 3H5c-1.1 0-2 .9-2 2v14c0 1.1.9 2 2 2h14c1.1 0 2-.9 2-2V5c0-1.1-.9-2-2-2zM9 17H7v-7h2v7zm4 0h-2V7h2v10zm4 0h-2v-4h2v4z\"/>\n",
              "    </g>\n",
              "</svg>\n",
              "  </button>\n",
              "\n",
              "<style>\n",
              "  .colab-df-quickchart {\n",
              "      --bg-color: #E8F0FE;\n",
              "      --fill-color: #1967D2;\n",
              "      --hover-bg-color: #E2EBFA;\n",
              "      --hover-fill-color: #174EA6;\n",
              "      --disabled-fill-color: #AAA;\n",
              "      --disabled-bg-color: #DDD;\n",
              "  }\n",
              "\n",
              "  [theme=dark] .colab-df-quickchart {\n",
              "      --bg-color: #3B4455;\n",
              "      --fill-color: #D2E3FC;\n",
              "      --hover-bg-color: #434B5C;\n",
              "      --hover-fill-color: #FFFFFF;\n",
              "      --disabled-bg-color: #3B4455;\n",
              "      --disabled-fill-color: #666;\n",
              "  }\n",
              "\n",
              "  .colab-df-quickchart {\n",
              "    background-color: var(--bg-color);\n",
              "    border: none;\n",
              "    border-radius: 50%;\n",
              "    cursor: pointer;\n",
              "    display: none;\n",
              "    fill: var(--fill-color);\n",
              "    height: 32px;\n",
              "    padding: 0;\n",
              "    width: 32px;\n",
              "  }\n",
              "\n",
              "  .colab-df-quickchart:hover {\n",
              "    background-color: var(--hover-bg-color);\n",
              "    box-shadow: 0 1px 2px rgba(60, 64, 67, 0.3), 0 1px 3px 1px rgba(60, 64, 67, 0.15);\n",
              "    fill: var(--button-hover-fill-color);\n",
              "  }\n",
              "\n",
              "  .colab-df-quickchart-complete:disabled,\n",
              "  .colab-df-quickchart-complete:disabled:hover {\n",
              "    background-color: var(--disabled-bg-color);\n",
              "    fill: var(--disabled-fill-color);\n",
              "    box-shadow: none;\n",
              "  }\n",
              "\n",
              "  .colab-df-spinner {\n",
              "    border: 2px solid var(--fill-color);\n",
              "    border-color: transparent;\n",
              "    border-bottom-color: var(--fill-color);\n",
              "    animation:\n",
              "      spin 1s steps(1) infinite;\n",
              "  }\n",
              "\n",
              "  @keyframes spin {\n",
              "    0% {\n",
              "      border-color: transparent;\n",
              "      border-bottom-color: var(--fill-color);\n",
              "      border-left-color: var(--fill-color);\n",
              "    }\n",
              "    20% {\n",
              "      border-color: transparent;\n",
              "      border-left-color: var(--fill-color);\n",
              "      border-top-color: var(--fill-color);\n",
              "    }\n",
              "    30% {\n",
              "      border-color: transparent;\n",
              "      border-left-color: var(--fill-color);\n",
              "      border-top-color: var(--fill-color);\n",
              "      border-right-color: var(--fill-color);\n",
              "    }\n",
              "    40% {\n",
              "      border-color: transparent;\n",
              "      border-right-color: var(--fill-color);\n",
              "      border-top-color: var(--fill-color);\n",
              "    }\n",
              "    60% {\n",
              "      border-color: transparent;\n",
              "      border-right-color: var(--fill-color);\n",
              "    }\n",
              "    80% {\n",
              "      border-color: transparent;\n",
              "      border-right-color: var(--fill-color);\n",
              "      border-bottom-color: var(--fill-color);\n",
              "    }\n",
              "    90% {\n",
              "      border-color: transparent;\n",
              "      border-bottom-color: var(--fill-color);\n",
              "    }\n",
              "  }\n",
              "</style>\n",
              "\n",
              "  <script>\n",
              "    async function quickchart(key) {\n",
              "      const quickchartButtonEl =\n",
              "        document.querySelector('#' + key + ' button');\n",
              "      quickchartButtonEl.disabled = true;  // To prevent multiple clicks.\n",
              "      quickchartButtonEl.classList.add('colab-df-spinner');\n",
              "      try {\n",
              "        const charts = await google.colab.kernel.invokeFunction(\n",
              "            'suggestCharts', [key], {});\n",
              "      } catch (error) {\n",
              "        console.error('Error during call to suggestCharts:', error);\n",
              "      }\n",
              "      quickchartButtonEl.classList.remove('colab-df-spinner');\n",
              "      quickchartButtonEl.classList.add('colab-df-quickchart-complete');\n",
              "    }\n",
              "    (() => {\n",
              "      let quickchartButtonEl =\n",
              "        document.querySelector('#df-8f761518-9f32-4726-9ed2-8271c37fa715 button');\n",
              "      quickchartButtonEl.style.display =\n",
              "        google.colab.kernel.accessAllowed ? 'block' : 'none';\n",
              "    })();\n",
              "  </script>\n",
              "</div>\n",
              "    </div>\n",
              "  </div>\n"
            ],
            "text/plain": [
              "    Sentence #           Word Tag\n",
              "0  Sentence: 1      Thousands   O\n",
              "1  Sentence: 1             of   O\n",
              "2  Sentence: 1  demonstrators   O\n",
              "3  Sentence: 1           have   O\n",
              "4  Sentence: 1        marched   O"
            ]
          },
          "execution_count": 13,
          "metadata": {},
          "output_type": "execute_result"
        }
      ],
      "source": [
        "entities_to_remove = [\"B-gpe\",\"I-gpe\",\"B-art\", \"I-art\", \"B-eve\", \"I-eve\", \"B-nat\", \"I-nat\"]\n",
        "data = data[~data.Tag.isin(entities_to_remove)]\n",
        "data =data.drop(['POS'],axis=1)\n",
        "data.head()"
      ]
    },
    {
      "cell_type": "code",
      "execution_count": 14,
      "id": "96219392",
      "metadata": {
        "colab": {
          "base_uri": "https://localhost:8080/",
          "height": 206
        },
        "execution": {
          "iopub.execute_input": "2022-01-28T03:21:30.041529Z",
          "iopub.status.busy": "2022-01-28T03:21:30.040992Z",
          "iopub.status.idle": "2022-01-28T03:21:30.046123Z",
          "shell.execute_reply": "2022-01-28T03:21:30.045374Z",
          "shell.execute_reply.started": "2022-01-27T19:35:44.66756Z"
        },
        "id": "96219392",
        "outputId": "6d2321b5-b79c-448b-e4c4-dae0fe75e816",
        "papermill": {
          "duration": 0.103173,
          "end_time": "2022-01-28T03:21:30.046237",
          "exception": false,
          "start_time": "2022-01-28T03:21:29.943064",
          "status": "completed"
        },
        "tags": []
      },
      "outputs": [
        {
          "data": {
            "text/html": [
              "\n",
              "  <div id=\"df-9b5b7987-614a-4272-8491-a0add9f2ae9e\" class=\"colab-df-container\">\n",
              "    <div>\n",
              "<style scoped>\n",
              "    .dataframe tbody tr th:only-of-type {\n",
              "        vertical-align: middle;\n",
              "    }\n",
              "\n",
              "    .dataframe tbody tr th {\n",
              "        vertical-align: top;\n",
              "    }\n",
              "\n",
              "    .dataframe thead th {\n",
              "        text-align: right;\n",
              "    }\n",
              "</style>\n",
              "<table border=\"1\" class=\"dataframe\">\n",
              "  <thead>\n",
              "    <tr style=\"text-align: right;\">\n",
              "      <th></th>\n",
              "      <th>Sentence #</th>\n",
              "      <th>Word</th>\n",
              "      <th>Tag</th>\n",
              "    </tr>\n",
              "  </thead>\n",
              "  <tbody>\n",
              "    <tr>\n",
              "      <th>0</th>\n",
              "      <td>Sentence: 1</td>\n",
              "      <td>Thousands</td>\n",
              "      <td>O</td>\n",
              "    </tr>\n",
              "    <tr>\n",
              "      <th>1</th>\n",
              "      <td>Sentence: 1</td>\n",
              "      <td>of</td>\n",
              "      <td>O</td>\n",
              "    </tr>\n",
              "    <tr>\n",
              "      <th>2</th>\n",
              "      <td>Sentence: 1</td>\n",
              "      <td>demonstrators</td>\n",
              "      <td>O</td>\n",
              "    </tr>\n",
              "    <tr>\n",
              "      <th>3</th>\n",
              "      <td>Sentence: 1</td>\n",
              "      <td>have</td>\n",
              "      <td>O</td>\n",
              "    </tr>\n",
              "    <tr>\n",
              "      <th>4</th>\n",
              "      <td>Sentence: 1</td>\n",
              "      <td>marched</td>\n",
              "      <td>O</td>\n",
              "    </tr>\n",
              "  </tbody>\n",
              "</table>\n",
              "</div>\n",
              "    <div class=\"colab-df-buttons\">\n",
              "\n",
              "  <div class=\"colab-df-container\">\n",
              "    <button class=\"colab-df-convert\" onclick=\"convertToInteractive('df-9b5b7987-614a-4272-8491-a0add9f2ae9e')\"\n",
              "            title=\"Convert this dataframe to an interactive table.\"\n",
              "            style=\"display:none;\">\n",
              "\n",
              "  <svg xmlns=\"http://www.w3.org/2000/svg\" height=\"24px\" viewBox=\"0 -960 960 960\">\n",
              "    <path d=\"M120-120v-720h720v720H120Zm60-500h600v-160H180v160Zm220 220h160v-160H400v160Zm0 220h160v-160H400v160ZM180-400h160v-160H180v160Zm440 0h160v-160H620v160ZM180-180h160v-160H180v160Zm440 0h160v-160H620v160Z\"/>\n",
              "  </svg>\n",
              "    </button>\n",
              "\n",
              "  <style>\n",
              "    .colab-df-container {\n",
              "      display:flex;\n",
              "      gap: 12px;\n",
              "    }\n",
              "\n",
              "    .colab-df-convert {\n",
              "      background-color: #E8F0FE;\n",
              "      border: none;\n",
              "      border-radius: 50%;\n",
              "      cursor: pointer;\n",
              "      display: none;\n",
              "      fill: #1967D2;\n",
              "      height: 32px;\n",
              "      padding: 0 0 0 0;\n",
              "      width: 32px;\n",
              "    }\n",
              "\n",
              "    .colab-df-convert:hover {\n",
              "      background-color: #E2EBFA;\n",
              "      box-shadow: 0px 1px 2px rgba(60, 64, 67, 0.3), 0px 1px 3px 1px rgba(60, 64, 67, 0.15);\n",
              "      fill: #174EA6;\n",
              "    }\n",
              "\n",
              "    .colab-df-buttons div {\n",
              "      margin-bottom: 4px;\n",
              "    }\n",
              "\n",
              "    [theme=dark] .colab-df-convert {\n",
              "      background-color: #3B4455;\n",
              "      fill: #D2E3FC;\n",
              "    }\n",
              "\n",
              "    [theme=dark] .colab-df-convert:hover {\n",
              "      background-color: #434B5C;\n",
              "      box-shadow: 0px 1px 3px 1px rgba(0, 0, 0, 0.15);\n",
              "      filter: drop-shadow(0px 1px 2px rgba(0, 0, 0, 0.3));\n",
              "      fill: #FFFFFF;\n",
              "    }\n",
              "  </style>\n",
              "\n",
              "    <script>\n",
              "      const buttonEl =\n",
              "        document.querySelector('#df-9b5b7987-614a-4272-8491-a0add9f2ae9e button.colab-df-convert');\n",
              "      buttonEl.style.display =\n",
              "        google.colab.kernel.accessAllowed ? 'block' : 'none';\n",
              "\n",
              "      async function convertToInteractive(key) {\n",
              "        const element = document.querySelector('#df-9b5b7987-614a-4272-8491-a0add9f2ae9e');\n",
              "        const dataTable =\n",
              "          await google.colab.kernel.invokeFunction('convertToInteractive',\n",
              "                                                    [key], {});\n",
              "        if (!dataTable) return;\n",
              "\n",
              "        const docLinkHtml = 'Like what you see? Visit the ' +\n",
              "          '<a target=\"_blank\" href=https://colab.research.google.com/notebooks/data_table.ipynb>data table notebook</a>'\n",
              "          + ' to learn more about interactive tables.';\n",
              "        element.innerHTML = '';\n",
              "        dataTable['output_type'] = 'display_data';\n",
              "        await google.colab.output.renderOutput(dataTable, element);\n",
              "        const docLink = document.createElement('div');\n",
              "        docLink.innerHTML = docLinkHtml;\n",
              "        element.appendChild(docLink);\n",
              "      }\n",
              "    </script>\n",
              "  </div>\n",
              "\n",
              "\n",
              "<div id=\"df-39f85d04-096d-467b-b8b0-f3ad6ada11fc\">\n",
              "  <button class=\"colab-df-quickchart\" onclick=\"quickchart('df-39f85d04-096d-467b-b8b0-f3ad6ada11fc')\"\n",
              "            title=\"Suggest charts.\"\n",
              "            style=\"display:none;\">\n",
              "\n",
              "<svg xmlns=\"http://www.w3.org/2000/svg\" height=\"24px\"viewBox=\"0 0 24 24\"\n",
              "     width=\"24px\">\n",
              "    <g>\n",
              "        <path d=\"M19 3H5c-1.1 0-2 .9-2 2v14c0 1.1.9 2 2 2h14c1.1 0 2-.9 2-2V5c0-1.1-.9-2-2-2zM9 17H7v-7h2v7zm4 0h-2V7h2v10zm4 0h-2v-4h2v4z\"/>\n",
              "    </g>\n",
              "</svg>\n",
              "  </button>\n",
              "\n",
              "<style>\n",
              "  .colab-df-quickchart {\n",
              "      --bg-color: #E8F0FE;\n",
              "      --fill-color: #1967D2;\n",
              "      --hover-bg-color: #E2EBFA;\n",
              "      --hover-fill-color: #174EA6;\n",
              "      --disabled-fill-color: #AAA;\n",
              "      --disabled-bg-color: #DDD;\n",
              "  }\n",
              "\n",
              "  [theme=dark] .colab-df-quickchart {\n",
              "      --bg-color: #3B4455;\n",
              "      --fill-color: #D2E3FC;\n",
              "      --hover-bg-color: #434B5C;\n",
              "      --hover-fill-color: #FFFFFF;\n",
              "      --disabled-bg-color: #3B4455;\n",
              "      --disabled-fill-color: #666;\n",
              "  }\n",
              "\n",
              "  .colab-df-quickchart {\n",
              "    background-color: var(--bg-color);\n",
              "    border: none;\n",
              "    border-radius: 50%;\n",
              "    cursor: pointer;\n",
              "    display: none;\n",
              "    fill: var(--fill-color);\n",
              "    height: 32px;\n",
              "    padding: 0;\n",
              "    width: 32px;\n",
              "  }\n",
              "\n",
              "  .colab-df-quickchart:hover {\n",
              "    background-color: var(--hover-bg-color);\n",
              "    box-shadow: 0 1px 2px rgba(60, 64, 67, 0.3), 0 1px 3px 1px rgba(60, 64, 67, 0.15);\n",
              "    fill: var(--button-hover-fill-color);\n",
              "  }\n",
              "\n",
              "  .colab-df-quickchart-complete:disabled,\n",
              "  .colab-df-quickchart-complete:disabled:hover {\n",
              "    background-color: var(--disabled-bg-color);\n",
              "    fill: var(--disabled-fill-color);\n",
              "    box-shadow: none;\n",
              "  }\n",
              "\n",
              "  .colab-df-spinner {\n",
              "    border: 2px solid var(--fill-color);\n",
              "    border-color: transparent;\n",
              "    border-bottom-color: var(--fill-color);\n",
              "    animation:\n",
              "      spin 1s steps(1) infinite;\n",
              "  }\n",
              "\n",
              "  @keyframes spin {\n",
              "    0% {\n",
              "      border-color: transparent;\n",
              "      border-bottom-color: var(--fill-color);\n",
              "      border-left-color: var(--fill-color);\n",
              "    }\n",
              "    20% {\n",
              "      border-color: transparent;\n",
              "      border-left-color: var(--fill-color);\n",
              "      border-top-color: var(--fill-color);\n",
              "    }\n",
              "    30% {\n",
              "      border-color: transparent;\n",
              "      border-left-color: var(--fill-color);\n",
              "      border-top-color: var(--fill-color);\n",
              "      border-right-color: var(--fill-color);\n",
              "    }\n",
              "    40% {\n",
              "      border-color: transparent;\n",
              "      border-right-color: var(--fill-color);\n",
              "      border-top-color: var(--fill-color);\n",
              "    }\n",
              "    60% {\n",
              "      border-color: transparent;\n",
              "      border-right-color: var(--fill-color);\n",
              "    }\n",
              "    80% {\n",
              "      border-color: transparent;\n",
              "      border-right-color: var(--fill-color);\n",
              "      border-bottom-color: var(--fill-color);\n",
              "    }\n",
              "    90% {\n",
              "      border-color: transparent;\n",
              "      border-bottom-color: var(--fill-color);\n",
              "    }\n",
              "  }\n",
              "</style>\n",
              "\n",
              "  <script>\n",
              "    async function quickchart(key) {\n",
              "      const quickchartButtonEl =\n",
              "        document.querySelector('#' + key + ' button');\n",
              "      quickchartButtonEl.disabled = true;  // To prevent multiple clicks.\n",
              "      quickchartButtonEl.classList.add('colab-df-spinner');\n",
              "      try {\n",
              "        const charts = await google.colab.kernel.invokeFunction(\n",
              "            'suggestCharts', [key], {});\n",
              "      } catch (error) {\n",
              "        console.error('Error during call to suggestCharts:', error);\n",
              "      }\n",
              "      quickchartButtonEl.classList.remove('colab-df-spinner');\n",
              "      quickchartButtonEl.classList.add('colab-df-quickchart-complete');\n",
              "    }\n",
              "    (() => {\n",
              "      let quickchartButtonEl =\n",
              "        document.querySelector('#df-39f85d04-096d-467b-b8b0-f3ad6ada11fc button');\n",
              "      quickchartButtonEl.style.display =\n",
              "        google.colab.kernel.accessAllowed ? 'block' : 'none';\n",
              "    })();\n",
              "  </script>\n",
              "</div>\n",
              "    </div>\n",
              "  </div>\n"
            ],
            "text/plain": [
              "    Sentence #           Word Tag\n",
              "0  Sentence: 1      Thousands   O\n",
              "1  Sentence: 1             of   O\n",
              "2  Sentence: 1  demonstrators   O\n",
              "3  Sentence: 1           have   O\n",
              "4  Sentence: 1        marched   O"
            ]
          },
          "execution_count": 14,
          "metadata": {},
          "output_type": "execute_result"
        }
      ],
      "source": [
        "data.head()"
      ]
    },
    {
      "cell_type": "code",
      "execution_count": 15,
      "id": "8276dba6",
      "metadata": {
        "execution": {
          "iopub.execute_input": "2022-01-28T03:21:30.174248Z",
          "iopub.status.busy": "2022-01-28T03:21:30.173329Z",
          "iopub.status.idle": "2022-01-28T03:21:30.176448Z",
          "shell.execute_reply": "2022-01-28T03:21:30.177220Z",
          "shell.execute_reply.started": "2022-01-27T19:35:44.678074Z"
        },
        "id": "8276dba6",
        "papermill": {
          "duration": 0.091015,
          "end_time": "2022-01-28T03:21:30.177453",
          "exception": false,
          "start_time": "2022-01-28T03:21:30.086438",
          "status": "completed"
        },
        "tags": []
      },
      "outputs": [],
      "source": [
        "class GetSentence(object):\n",
        "    def __init__(self,data):\n",
        "        self.data = data\n",
        "        self.n_sentences = 1\n",
        "        self.empty = False\n",
        "        agg_function = lambda s: [(w,t) for w,t in zip(s[\"Word\"].values.tolist(),\n",
        "                                                        s[\"Tag\"].values.tolist())]\n",
        "        self.group = self.data.groupby('Sentence #').apply(agg_function)\n",
        "        self.sentence = [s for s in self.group]"
      ]
    },
    {
      "cell_type": "code",
      "execution_count": 16,
      "id": "7c18a0fe",
      "metadata": {
        "execution": {
          "iopub.execute_input": "2022-01-28T03:21:30.354907Z",
          "iopub.status.busy": "2022-01-28T03:21:30.353979Z",
          "iopub.status.idle": "2022-01-28T03:21:34.836130Z",
          "shell.execute_reply": "2022-01-28T03:21:34.835352Z",
          "shell.execute_reply.started": "2022-01-27T19:35:44.689111Z"
        },
        "id": "7c18a0fe",
        "papermill": {
          "duration": 4.583042,
          "end_time": "2022-01-28T03:21:34.836287",
          "exception": false,
          "start_time": "2022-01-28T03:21:30.253245",
          "status": "completed"
        },
        "tags": []
      },
      "outputs": [],
      "source": [
        "getter = GetSentence(data)"
      ]
    },
    {
      "cell_type": "code",
      "execution_count": 17,
      "id": "52c37a28",
      "metadata": {
        "execution": {
          "iopub.execute_input": "2022-01-28T03:21:34.948905Z",
          "iopub.status.busy": "2022-01-28T03:21:34.943816Z",
          "iopub.status.idle": "2022-01-28T03:21:35.013559Z",
          "shell.execute_reply": "2022-01-28T03:21:35.013106Z",
          "shell.execute_reply.started": "2022-01-27T19:35:49.371536Z"
        },
        "id": "52c37a28",
        "papermill": {
          "duration": 0.138235,
          "end_time": "2022-01-28T03:21:35.013715",
          "exception": false,
          "start_time": "2022-01-28T03:21:34.875480",
          "status": "completed"
        },
        "tags": []
      },
      "outputs": [],
      "source": [
        "sentence = [[word[0] for word in sentence] for sentence in getter.sentence]"
      ]
    },
    {
      "cell_type": "code",
      "execution_count": 18,
      "id": "5afd49a9",
      "metadata": {
        "colab": {
          "base_uri": "https://localhost:8080/"
        },
        "execution": {
          "iopub.execute_input": "2022-01-28T03:21:35.097415Z",
          "iopub.status.busy": "2022-01-28T03:21:35.096666Z",
          "iopub.status.idle": "2022-01-28T03:21:35.099473Z",
          "shell.execute_reply": "2022-01-28T03:21:35.099921Z",
          "shell.execute_reply.started": "2022-01-27T19:35:49.467666Z"
        },
        "id": "5afd49a9",
        "outputId": "901b9a52-9f46-42cf-9d89-00c9780c1ed3",
        "papermill": {
          "duration": 0.047075,
          "end_time": "2022-01-28T03:21:35.100050",
          "exception": false,
          "start_time": "2022-01-28T03:21:35.052975",
          "status": "completed"
        },
        "tags": []
      },
      "outputs": [
        {
          "data": {
            "text/plain": [
              "['Thousands',\n",
              " 'of',\n",
              " 'demonstrators',\n",
              " 'have',\n",
              " 'marched',\n",
              " 'through',\n",
              " 'London',\n",
              " 'to',\n",
              " 'protest',\n",
              " 'the',\n",
              " 'war',\n",
              " 'in',\n",
              " 'Iraq',\n",
              " 'and',\n",
              " 'demand',\n",
              " 'the',\n",
              " 'withdrawal',\n",
              " 'of',\n",
              " 'troops',\n",
              " 'from',\n",
              " 'that',\n",
              " 'country',\n",
              " '.']"
            ]
          },
          "execution_count": 18,
          "metadata": {},
          "output_type": "execute_result"
        }
      ],
      "source": [
        "sentence[0]"
      ]
    },
    {
      "cell_type": "code",
      "execution_count": 19,
      "id": "fb0c3533",
      "metadata": {
        "execution": {
          "iopub.execute_input": "2022-01-28T03:21:35.332804Z",
          "iopub.status.busy": "2022-01-28T03:21:35.331693Z",
          "iopub.status.idle": "2022-01-28T03:21:35.394098Z",
          "shell.execute_reply": "2022-01-28T03:21:35.393247Z",
          "shell.execute_reply.started": "2022-01-27T19:35:49.475341Z"
        },
        "id": "fb0c3533",
        "papermill": {
          "duration": 0.254951,
          "end_time": "2022-01-28T03:21:35.394235",
          "exception": false,
          "start_time": "2022-01-28T03:21:35.139284",
          "status": "completed"
        },
        "tags": []
      },
      "outputs": [],
      "source": [
        "labels = [[lab[1] for lab in sentence] for sentence in getter.sentence]"
      ]
    },
    {
      "cell_type": "code",
      "execution_count": 20,
      "id": "1b7143e8",
      "metadata": {
        "colab": {
          "base_uri": "https://localhost:8080/"
        },
        "execution": {
          "iopub.execute_input": "2022-01-28T03:21:35.478346Z",
          "iopub.status.busy": "2022-01-28T03:21:35.477646Z",
          "iopub.status.idle": "2022-01-28T03:21:35.480327Z",
          "shell.execute_reply": "2022-01-28T03:21:35.480765Z",
          "shell.execute_reply.started": "2022-01-27T19:35:49.68654Z"
        },
        "id": "1b7143e8",
        "outputId": "71808f80-206b-4a0f-80c6-a728250fb31e",
        "papermill": {
          "duration": 0.046842,
          "end_time": "2022-01-28T03:21:35.480909",
          "exception": false,
          "start_time": "2022-01-28T03:21:35.434067",
          "status": "completed"
        },
        "tags": []
      },
      "outputs": [
        {
          "data": {
            "text/plain": [
              "['O',\n",
              " 'O',\n",
              " 'O',\n",
              " 'O',\n",
              " 'O',\n",
              " 'O',\n",
              " 'B-geo',\n",
              " 'O',\n",
              " 'O',\n",
              " 'O',\n",
              " 'O',\n",
              " 'O',\n",
              " 'B-geo',\n",
              " 'O',\n",
              " 'O',\n",
              " 'O',\n",
              " 'O',\n",
              " 'O',\n",
              " 'O',\n",
              " 'O',\n",
              " 'O',\n",
              " 'O',\n",
              " 'O']"
            ]
          },
          "execution_count": 20,
          "metadata": {},
          "output_type": "execute_result"
        }
      ],
      "source": [
        "labels[0]"
      ]
    },
    {
      "cell_type": "code",
      "execution_count": 21,
      "id": "8d81ff42",
      "metadata": {
        "execution": {
          "iopub.execute_input": "2022-01-28T03:21:35.598949Z",
          "iopub.status.busy": "2022-01-28T03:21:35.597848Z",
          "iopub.status.idle": "2022-01-28T03:21:35.602090Z",
          "shell.execute_reply": "2022-01-28T03:21:35.601643Z",
          "shell.execute_reply.started": "2022-01-27T19:35:49.694378Z"
        },
        "id": "8d81ff42",
        "papermill": {
          "duration": 0.081943,
          "end_time": "2022-01-28T03:21:35.602210",
          "exception": false,
          "start_time": "2022-01-28T03:21:35.520267",
          "status": "completed"
        },
        "tags": []
      },
      "outputs": [],
      "source": [
        "tag_values = list(set(data[\"Tag\"].values))"
      ]
    },
    {
      "cell_type": "code",
      "execution_count": 22,
      "id": "4431f75d",
      "metadata": {
        "colab": {
          "base_uri": "https://localhost:8080/"
        },
        "execution": {
          "iopub.execute_input": "2022-01-28T03:21:35.684567Z",
          "iopub.status.busy": "2022-01-28T03:21:35.683764Z",
          "iopub.status.idle": "2022-01-28T03:21:35.689446Z",
          "shell.execute_reply": "2022-01-28T03:21:35.689020Z",
          "shell.execute_reply.started": "2022-01-27T19:35:49.740786Z"
        },
        "id": "4431f75d",
        "outputId": "49e6b3be-291c-4077-8626-b12138f7bce6",
        "papermill": {
          "duration": 0.047652,
          "end_time": "2022-01-28T03:21:35.689560",
          "exception": false,
          "start_time": "2022-01-28T03:21:35.641908",
          "status": "completed"
        },
        "tags": []
      },
      "outputs": [
        {
          "data": {
            "text/plain": [
              "['B-org', 'B-per', 'I-tim', 'O', 'I-per', 'I-org', 'I-geo', 'B-tim', 'B-geo']"
            ]
          },
          "execution_count": 22,
          "metadata": {},
          "output_type": "execute_result"
        }
      ],
      "source": [
        "tag_values"
      ]
    },
    {
      "cell_type": "code",
      "execution_count": 23,
      "id": "ca5879e8",
      "metadata": {
        "execution": {
          "iopub.execute_input": "2022-01-28T03:21:35.773055Z",
          "iopub.status.busy": "2022-01-28T03:21:35.772353Z",
          "iopub.status.idle": "2022-01-28T03:21:35.774814Z",
          "shell.execute_reply": "2022-01-28T03:21:35.774379Z",
          "shell.execute_reply.started": "2022-01-27T19:35:49.75053Z"
        },
        "id": "ca5879e8",
        "papermill": {
          "duration": 0.045871,
          "end_time": "2022-01-28T03:21:35.774923",
          "exception": false,
          "start_time": "2022-01-28T03:21:35.729052",
          "status": "completed"
        },
        "tags": []
      },
      "outputs": [],
      "source": [
        "tag_values.append('PAD')"
      ]
    },
    {
      "cell_type": "code",
      "execution_count": 24,
      "id": "5f52c1db",
      "metadata": {
        "execution": {
          "iopub.execute_input": "2022-01-28T03:21:35.859190Z",
          "iopub.status.busy": "2022-01-28T03:21:35.858485Z",
          "iopub.status.idle": "2022-01-28T03:21:35.860973Z",
          "shell.execute_reply": "2022-01-28T03:21:35.860438Z",
          "shell.execute_reply.started": "2022-01-27T19:35:49.758226Z"
        },
        "id": "5f52c1db",
        "papermill": {
          "duration": 0.046101,
          "end_time": "2022-01-28T03:21:35.861077",
          "exception": false,
          "start_time": "2022-01-28T03:21:35.814976",
          "status": "completed"
        },
        "tags": []
      },
      "outputs": [],
      "source": [
        "tag_idx = {t: i for i, t in enumerate(tag_values)}"
      ]
    },
    {
      "cell_type": "code",
      "execution_count": 25,
      "id": "ab6d2963",
      "metadata": {
        "colab": {
          "base_uri": "https://localhost:8080/"
        },
        "execution": {
          "iopub.execute_input": "2022-01-28T03:21:35.944925Z",
          "iopub.status.busy": "2022-01-28T03:21:35.944274Z",
          "iopub.status.idle": "2022-01-28T03:21:35.946945Z",
          "shell.execute_reply": "2022-01-28T03:21:35.947408Z",
          "shell.execute_reply.started": "2022-01-27T19:35:49.767514Z"
        },
        "id": "ab6d2963",
        "outputId": "61595f2a-103c-4484-a37f-e2534ff98555",
        "papermill": {
          "duration": 0.046862,
          "end_time": "2022-01-28T03:21:35.947539",
          "exception": false,
          "start_time": "2022-01-28T03:21:35.900677",
          "status": "completed"
        },
        "tags": []
      },
      "outputs": [
        {
          "data": {
            "text/plain": [
              "{'B-org': 0,\n",
              " 'B-per': 1,\n",
              " 'I-tim': 2,\n",
              " 'O': 3,\n",
              " 'I-per': 4,\n",
              " 'I-org': 5,\n",
              " 'I-geo': 6,\n",
              " 'B-tim': 7,\n",
              " 'B-geo': 8,\n",
              " 'PAD': 9}"
            ]
          },
          "execution_count": 25,
          "metadata": {},
          "output_type": "execute_result"
        }
      ],
      "source": [
        "tag_idx"
      ]
    },
    {
      "cell_type": "code",
      "execution_count": 26,
      "id": "2a27cc51",
      "metadata": {
        "colab": {
          "base_uri": "https://localhost:8080/",
          "height": 36
        },
        "execution": {
          "iopub.execute_input": "2022-01-28T03:21:37.495456Z",
          "iopub.status.busy": "2022-01-28T03:21:37.494666Z",
          "iopub.status.idle": "2022-01-28T03:21:37.500111Z",
          "shell.execute_reply": "2022-01-28T03:21:37.499686Z",
          "shell.execute_reply.started": "2022-01-27T19:35:51.166351Z"
        },
        "id": "2a27cc51",
        "outputId": "1889bb06-29aa-4bcf-9320-390792193f4e",
        "papermill": {
          "duration": 0.047795,
          "end_time": "2022-01-28T03:21:37.500216",
          "exception": false,
          "start_time": "2022-01-28T03:21:37.452421",
          "status": "completed"
        },
        "tags": []
      },
      "outputs": [
        {
          "data": {
            "application/vnd.google.colaboratory.intrinsic+json": {
              "type": "string"
            },
            "text/plain": [
              "'2.0.1+cu118'"
            ]
          },
          "execution_count": 26,
          "metadata": {},
          "output_type": "execute_result"
        }
      ],
      "source": [
        "torch.__version__"
      ]
    },
    {
      "cell_type": "code",
      "execution_count": 27,
      "id": "7c6fbe71",
      "metadata": {
        "execution": {
          "iopub.execute_input": "2022-01-28T03:21:38.886696Z",
          "iopub.status.busy": "2022-01-28T03:21:38.885076Z",
          "iopub.status.idle": "2022-01-28T03:21:38.887579Z",
          "shell.execute_reply": "2022-01-28T03:21:38.888167Z",
          "shell.execute_reply.started": "2022-01-27T19:35:52.297528Z"
        },
        "id": "7c6fbe71",
        "papermill": {
          "duration": 0.047114,
          "end_time": "2022-01-28T03:21:38.888300",
          "exception": false,
          "start_time": "2022-01-28T03:21:38.841186",
          "status": "completed"
        },
        "tags": []
      },
      "outputs": [],
      "source": [
        "MAX_LEN = 75\n",
        "BATCH_SIZE = 16"
      ]
    },
    {
      "cell_type": "code",
      "execution_count": 28,
      "id": "60ea8425",
      "metadata": {
        "execution": {
          "iopub.execute_input": "2022-01-28T03:21:39.016900Z",
          "iopub.status.busy": "2022-01-28T03:21:39.015967Z",
          "iopub.status.idle": "2022-01-28T03:21:39.018211Z",
          "shell.execute_reply": "2022-01-28T03:21:39.018658Z",
          "shell.execute_reply.started": "2022-01-27T19:35:52.303354Z"
        },
        "id": "60ea8425",
        "papermill": {
          "duration": 0.090376,
          "end_time": "2022-01-28T03:21:39.018799",
          "exception": false,
          "start_time": "2022-01-28T03:21:38.928423",
          "status": "completed"
        },
        "tags": []
      },
      "outputs": [],
      "source": [
        "device = torch.device('cuda' if torch.cuda.is_available() else 'cpu')"
      ]
    },
    {
      "cell_type": "code",
      "execution_count": 31,
      "id": "f6223ed6",
      "metadata": {
        "colab": {
          "base_uri": "https://localhost:8080/"
        },
        "execution": {
          "iopub.execute_input": "2022-01-28T03:21:39.104374Z",
          "iopub.status.busy": "2022-01-28T03:21:39.103725Z",
          "iopub.status.idle": "2022-01-28T03:21:39.106460Z",
          "shell.execute_reply": "2022-01-28T03:21:39.106904Z",
          "shell.execute_reply.started": "2022-01-27T19:35:52.364372Z"
        },
        "id": "f6223ed6",
        "outputId": "3aa7b073-c1f5-4ed1-cd28-0734b2348847",
        "papermill": {
          "duration": 0.047457,
          "end_time": "2022-01-28T03:21:39.107047",
          "exception": false,
          "start_time": "2022-01-28T03:21:39.059590",
          "status": "completed"
        },
        "tags": []
      },
      "outputs": [
        {
          "name": "stdout",
          "output_type": "stream",
          "text": [
            "1\n"
          ]
        }
      ],
      "source": [
        "print(torch.cuda.device_count())"
      ]
    },
    {
      "cell_type": "code",
      "execution_count": 32,
      "id": "47be5eb8",
      "metadata": {
        "execution": {
          "iopub.execute_input": "2022-01-28T03:21:39.192510Z",
          "iopub.status.busy": "2022-01-28T03:21:39.192014Z",
          "iopub.status.idle": "2022-01-28T03:21:40.721344Z",
          "shell.execute_reply": "2022-01-28T03:21:40.720300Z",
          "shell.execute_reply.started": "2022-01-27T19:35:52.377946Z"
        },
        "id": "47be5eb8",
        "papermill": {
          "duration": 1.574021,
          "end_time": "2022-01-28T03:21:40.721483",
          "exception": false,
          "start_time": "2022-01-28T03:21:39.147462",
          "status": "completed"
        },
        "tags": []
      },
      "outputs": [],
      "source": [
        "tokenizer = BertTokenizer.from_pretrained('bert-base-cased', do_lower_case = False)"
      ]
    },
    {
      "cell_type": "code",
      "execution_count": 33,
      "id": "9faf6728",
      "metadata": {
        "execution": {
          "iopub.execute_input": "2022-01-28T03:21:40.816534Z",
          "iopub.status.busy": "2022-01-28T03:21:40.814898Z",
          "iopub.status.idle": "2022-01-28T03:21:40.817232Z",
          "shell.execute_reply": "2022-01-28T03:21:40.817899Z",
          "shell.execute_reply.started": "2022-01-27T19:35:53.464561Z"
        },
        "id": "9faf6728",
        "papermill": {
          "duration": 0.052681,
          "end_time": "2022-01-28T03:21:40.818073",
          "exception": false,
          "start_time": "2022-01-28T03:21:40.765392",
          "status": "completed"
        },
        "tags": []
      },
      "outputs": [],
      "source": [
        "def tokenize_preserve(sentences,text_labels):\n",
        "    tokenized_sentence = []\n",
        "    labels = []\n",
        "\n",
        "    for word, label in zip(sentences,text_labels):\n",
        "        tokenized_word = tokenizer.tokenize(word)\n",
        "        n_subwords = len(tokenized_word)\n",
        "        tokenized_sentence.extend(tokenized_word)\n",
        "        labels.extend([label]*n_subwords)\n",
        "\n",
        "    return tokenized_sentence, labels\n"
      ]
    },
    {
      "cell_type": "code",
      "execution_count": 34,
      "id": "71f2b58b",
      "metadata": {
        "execution": {
          "iopub.execute_input": "2022-01-28T03:21:40.962577Z",
          "iopub.status.busy": "2022-01-28T03:21:40.947597Z",
          "iopub.status.idle": "2022-01-28T03:22:36.884159Z",
          "shell.execute_reply": "2022-01-28T03:22:36.883609Z",
          "shell.execute_reply.started": "2022-01-27T19:35:53.471256Z"
        },
        "id": "71f2b58b",
        "papermill": {
          "duration": 56.023176,
          "end_time": "2022-01-28T03:22:36.884313",
          "exception": false,
          "start_time": "2022-01-28T03:21:40.861137",
          "status": "completed"
        },
        "tags": []
      },
      "outputs": [],
      "source": [
        "tokenized_texts_and_labels = [\n",
        "  tokenize_preserve(sent,labs)\n",
        "  for sent,labs in zip(sentence,labels)\n",
        "]"
      ]
    },
    {
      "cell_type": "code",
      "execution_count": 35,
      "id": "edd4ed9f",
      "metadata": {
        "execution": {
          "iopub.execute_input": "2022-01-28T03:22:36.985667Z",
          "iopub.status.busy": "2022-01-28T03:22:36.984053Z",
          "iopub.status.idle": "2022-01-28T03:22:36.986246Z",
          "shell.execute_reply": "2022-01-28T03:22:36.986680Z",
          "shell.execute_reply.started": "2022-01-27T19:36:48.956201Z"
        },
        "id": "edd4ed9f",
        "papermill": {
          "duration": 0.060006,
          "end_time": "2022-01-28T03:22:36.986812",
          "exception": false,
          "start_time": "2022-01-28T03:22:36.926806",
          "status": "completed"
        },
        "tags": []
      },
      "outputs": [],
      "source": [
        "tokenized_text = [token_label_pair[0] for token_label_pair in tokenized_texts_and_labels]\n",
        "labels = [token_label_pair[1]for token_label_pair in tokenized_texts_and_labels]"
      ]
    },
    {
      "cell_type": "code",
      "execution_count": 36,
      "id": "7bb487a5",
      "metadata": {
        "colab": {
          "base_uri": "https://localhost:8080/"
        },
        "execution": {
          "iopub.execute_input": "2022-01-28T03:22:37.075788Z",
          "iopub.status.busy": "2022-01-28T03:22:37.075113Z",
          "iopub.status.idle": "2022-01-28T03:22:37.077598Z",
          "shell.execute_reply": "2022-01-28T03:22:37.078058Z",
          "shell.execute_reply.started": "2022-01-27T19:36:48.975373Z"
        },
        "id": "7bb487a5",
        "outputId": "29b4a901-50c0-498a-8e9c-337313fd2190",
        "papermill": {
          "duration": 0.049233,
          "end_time": "2022-01-28T03:22:37.078181",
          "exception": false,
          "start_time": "2022-01-28T03:22:37.028948",
          "status": "completed"
        },
        "tags": []
      },
      "outputs": [
        {
          "data": {
            "text/plain": [
              "(25, 25)"
            ]
          },
          "execution_count": 36,
          "metadata": {},
          "output_type": "execute_result"
        }
      ],
      "source": [
        "len(tokenized_text[0]) , len(labels[0])"
      ]
    },
    {
      "cell_type": "code",
      "execution_count": 36,
      "id": "53fa0a91",
      "metadata": {
        "execution": {
          "iopub.execute_input": "2022-01-28T03:22:37.165663Z",
          "iopub.status.busy": "2022-01-28T03:22:37.165093Z",
          "iopub.status.idle": "2022-01-28T03:22:37.172403Z",
          "shell.execute_reply": "2022-01-28T03:22:37.171973Z",
          "shell.execute_reply.started": "2022-01-27T19:36:48.988536Z"
        },
        "id": "53fa0a91",
        "papermill": {
          "duration": 0.052514,
          "end_time": "2022-01-28T03:22:37.172504",
          "exception": false,
          "start_time": "2022-01-28T03:22:37.119990",
          "status": "completed"
        },
        "tags": []
      },
      "outputs": [],
      "source": []
    },
    {
      "cell_type": "code",
      "execution_count": 37,
      "id": "d5910308",
      "metadata": {
        "execution": {
          "iopub.execute_input": "2022-01-28T03:22:37.307272Z",
          "iopub.status.busy": "2022-01-28T03:22:37.268469Z",
          "iopub.status.idle": "2022-01-28T03:22:38.906379Z",
          "shell.execute_reply": "2022-01-28T03:22:38.905484Z",
          "shell.execute_reply.started": "2022-01-27T19:36:49.006044Z"
        },
        "id": "d5910308",
        "papermill": {
          "duration": 1.69176,
          "end_time": "2022-01-28T03:22:38.906518",
          "exception": false,
          "start_time": "2022-01-28T03:22:37.214758",
          "status": "completed"
        },
        "tags": []
      },
      "outputs": [],
      "source": [
        "input_ids = pad_sequences([tokenizer.convert_tokens_to_ids(txt) for txt in tokenized_text],\n",
        "                         maxlen=MAX_LEN, dtype='long',value=0.0,\n",
        "                         truncating='post',padding='post')"
      ]
    },
    {
      "cell_type": "code",
      "execution_count": 38,
      "id": "f8ed6eb5",
      "metadata": {
        "execution": {
          "iopub.execute_input": "2022-01-28T03:22:39.270884Z",
          "iopub.status.busy": "2022-01-28T03:22:39.015859Z",
          "iopub.status.idle": "2022-01-28T03:22:39.798486Z",
          "shell.execute_reply": "2022-01-28T03:22:39.797908Z",
          "shell.execute_reply.started": "2022-01-27T19:36:50.625275Z"
        },
        "id": "f8ed6eb5",
        "papermill": {
          "duration": 0.847926,
          "end_time": "2022-01-28T03:22:39.798613",
          "exception": false,
          "start_time": "2022-01-28T03:22:38.950687",
          "status": "completed"
        },
        "tags": []
      },
      "outputs": [],
      "source": [
        "tags = pad_sequences([[tag_idx.get(l)for l in lab]for lab in labels],\n",
        "                    maxlen=MAX_LEN, dtype='long', value=tag_idx['PAD'],\n",
        "                    truncating='post',padding='post')"
      ]
    },
    {
      "cell_type": "code",
      "execution_count": 39,
      "id": "05b4d23d",
      "metadata": {
        "execution": {
          "iopub.execute_input": "2022-01-28T03:22:39.887263Z",
          "iopub.status.busy": "2022-01-28T03:22:39.886448Z",
          "iopub.status.idle": "2022-01-28T03:22:50.742070Z",
          "shell.execute_reply": "2022-01-28T03:22:50.741465Z",
          "shell.execute_reply.started": "2022-01-27T19:36:51.428672Z"
        },
        "id": "05b4d23d",
        "papermill": {
          "duration": 10.900635,
          "end_time": "2022-01-28T03:22:50.742224",
          "exception": false,
          "start_time": "2022-01-28T03:22:39.841589",
          "status": "completed"
        },
        "tags": []
      },
      "outputs": [],
      "source": [
        "attention_masks = [[float(i !=0.0)for i in ii]for ii in input_ids]"
      ]
    },
    {
      "cell_type": "code",
      "execution_count": 40,
      "id": "fe1640bc",
      "metadata": {
        "execution": {
          "iopub.execute_input": "2022-01-28T03:22:50.835656Z",
          "iopub.status.busy": "2022-01-28T03:22:50.834707Z",
          "iopub.status.idle": "2022-01-28T03:22:50.862393Z",
          "shell.execute_reply": "2022-01-28T03:22:50.861860Z",
          "shell.execute_reply.started": "2022-01-27T19:37:01.622364Z"
        },
        "id": "fe1640bc",
        "papermill": {
          "duration": 0.078079,
          "end_time": "2022-01-28T03:22:50.862536",
          "exception": false,
          "start_time": "2022-01-28T03:22:50.784457",
          "status": "completed"
        },
        "tags": []
      },
      "outputs": [],
      "source": [
        "tr_input, val_input, tr_tag, val_tag = train_test_split(input_ids,tags,random_state=45,test_size=.1)"
      ]
    },
    {
      "cell_type": "code",
      "execution_count": 41,
      "id": "136997e1",
      "metadata": {
        "execution": {
          "iopub.execute_input": "2022-01-28T03:22:50.953320Z",
          "iopub.status.busy": "2022-01-28T03:22:50.952520Z",
          "iopub.status.idle": "2022-01-28T03:22:50.987129Z",
          "shell.execute_reply": "2022-01-28T03:22:50.986591Z",
          "shell.execute_reply.started": "2022-01-27T19:37:01.672536Z"
        },
        "id": "136997e1",
        "papermill": {
          "duration": 0.08157,
          "end_time": "2022-01-28T03:22:50.987267",
          "exception": false,
          "start_time": "2022-01-28T03:22:50.905697",
          "status": "completed"
        },
        "tags": []
      },
      "outputs": [],
      "source": [
        "tr_masks, val_masks, _, _ = train_test_split(attention_masks, input_ids, random_state=45, test_size=.1)"
      ]
    },
    {
      "cell_type": "code",
      "execution_count": 42,
      "id": "81a69cfa",
      "metadata": {
        "colab": {
          "base_uri": "https://localhost:8080/"
        },
        "execution": {
          "iopub.execute_input": "2022-01-28T03:22:51.080718Z",
          "iopub.status.busy": "2022-01-28T03:22:51.080151Z",
          "iopub.status.idle": "2022-01-28T03:22:51.087189Z",
          "shell.execute_reply": "2022-01-28T03:22:51.086681Z",
          "shell.execute_reply.started": "2022-01-27T19:37:01.728621Z"
        },
        "id": "81a69cfa",
        "outputId": "b76658dd-9a87-48d0-eebc-c213d369d733",
        "papermill": {
          "duration": 0.057726,
          "end_time": "2022-01-28T03:22:51.087317",
          "exception": false,
          "start_time": "2022-01-28T03:22:51.029591",
          "status": "completed"
        },
        "tags": []
      },
      "outputs": [
        {
          "name": "stdout",
          "output_type": "stream",
          "text": [
            "[1.0, 1.0, 1.0, 1.0, 1.0, 1.0, 1.0, 1.0, 1.0, 1.0, 1.0, 1.0, 1.0, 1.0, 1.0, 1.0, 0.0, 0.0, 0.0, 0.0, 0.0, 0.0, 0.0, 0.0, 0.0, 0.0, 0.0, 0.0, 0.0, 0.0, 0.0, 0.0, 0.0, 0.0, 0.0, 0.0, 0.0, 0.0, 0.0, 0.0, 0.0, 0.0, 0.0, 0.0, 0.0, 0.0, 0.0, 0.0, 0.0, 0.0, 0.0, 0.0, 0.0, 0.0, 0.0, 0.0, 0.0, 0.0, 0.0, 0.0, 0.0, 0.0, 0.0, 0.0, 0.0, 0.0, 0.0, 0.0, 0.0, 0.0, 0.0, 0.0, 0.0, 0.0, 0.0]\n",
            "[10000  2110  4108 19496  1335  5971  1183  1163  1175  1108  1185  6281\n",
            "  5088  1106 12010   119     0     0     0     0     0     0     0     0\n",
            "     0     0     0     0     0     0     0     0     0     0     0     0\n",
            "     0     0     0     0     0     0     0     0     0     0     0     0\n",
            "     0     0     0     0     0     0     0     0     0     0     0     0\n",
            "     0     0     0     0     0     0     0     0     0     0     0     0\n",
            "     0     0     0]\n",
            "[3 3 1 1 4 4 4 3 3 3 3 3 3 3 3 3 9 9 9 9 9 9 9 9 9 9 9 9 9 9 9 9 9 9 9 9 9\n",
            " 9 9 9 9 9 9 9 9 9 9 9 9 9 9 9 9 9 9 9 9 9 9 9 9 9 9 9 9 9 9 9 9 9 9 9 9 9\n",
            " 9]\n"
          ]
        },
        {
          "data": {
            "text/plain": [
              "(None, None, None)"
            ]
          },
          "execution_count": 42,
          "metadata": {},
          "output_type": "execute_result"
        }
      ],
      "source": [
        "len(tr_masks[0]),len(tr_input[0]), len(tr_tag[0])\n",
        "print(tr_masks[0]), print(tr_input[0]), print(tr_tag[0])"
      ]
    },
    {
      "cell_type": "code",
      "execution_count": 43,
      "id": "164a9be0",
      "metadata": {
        "execution": {
          "iopub.execute_input": "2022-01-28T03:22:51.178304Z",
          "iopub.status.busy": "2022-01-28T03:22:51.177724Z",
          "iopub.status.idle": "2022-01-28T03:22:51.541606Z",
          "shell.execute_reply": "2022-01-28T03:22:51.541122Z",
          "shell.execute_reply.started": "2022-01-27T19:37:01.756277Z"
        },
        "id": "164a9be0",
        "papermill": {
          "duration": 0.412288,
          "end_time": "2022-01-28T03:22:51.541765",
          "exception": false,
          "start_time": "2022-01-28T03:22:51.129477",
          "status": "completed"
        },
        "tags": []
      },
      "outputs": [],
      "source": [
        "tr_input = torch.tensor(tr_input)\n",
        "val_input = torch.tensor(val_input)\n",
        "tr_tag = torch.tensor(tr_tag)\n",
        "val_tag = torch.tensor(val_tag)\n",
        "tr_masks = torch.tensor(tr_masks)\n",
        "val_masks = torch.tensor(val_masks)"
      ]
    },
    {
      "cell_type": "code",
      "execution_count": 44,
      "id": "9304ec0e",
      "metadata": {
        "execution": {
          "iopub.execute_input": "2022-01-28T03:22:51.634741Z",
          "iopub.status.busy": "2022-01-28T03:22:51.633825Z",
          "iopub.status.idle": "2022-01-28T03:22:51.635775Z",
          "shell.execute_reply": "2022-01-28T03:22:51.636165Z",
          "shell.execute_reply.started": "2022-01-27T19:37:02.312389Z"
        },
        "id": "9304ec0e",
        "papermill": {
          "duration": 0.051316,
          "end_time": "2022-01-28T03:22:51.636306",
          "exception": false,
          "start_time": "2022-01-28T03:22:51.584990",
          "status": "completed"
        },
        "tags": []
      },
      "outputs": [],
      "source": [
        "train_data = TensorDataset(tr_input, tr_masks, tr_tag)\n",
        "train_sampler = RandomSampler(train_data)\n",
        "train_dataloader = DataLoader(train_data, sampler=train_sampler, batch_size=BATCH_SIZE)\n",
        "\n",
        "valid_data = TensorDataset(tr_input, tr_masks, tr_tag)\n",
        "valid_sampler = SequentialSampler(valid_data)\n",
        "valid_dataloader = DataLoader(valid_data, sampler=valid_sampler, batch_size=BATCH_SIZE)"
      ]
    },
    {
      "cell_type": "code",
      "execution_count": 45,
      "id": "05474c0e",
      "metadata": {
        "colab": {
          "base_uri": "https://localhost:8080/",
          "height": 84,
          "referenced_widgets": [
            "27b109bbce4c4306a60a4d685adeaddc",
            "730443d3555647f9a752fbaad2d1841e",
            "4d4b2a17e7014379a120584020e9a5e7",
            "4261e55616734551972e44a2ae9b2dfe",
            "f1655977c32a4424905fb8f37c0eceb0",
            "a31902332b1b4181958913e02eb5c7a0",
            "4177f99f3dae45c3bce862d425298fad",
            "e34e4d07482e4bac9b3a002d9727dc4a",
            "704bd040c5844e9ba41a628c8e400116",
            "6124532a36014aefb11ad0120e409ec7",
            "09a0a5c1150245e19cb3adf72bf86844"
          ]
        },
        "execution": {
          "iopub.execute_input": "2022-01-28T03:22:55.565953Z",
          "iopub.status.busy": "2022-01-28T03:22:55.565154Z",
          "iopub.status.idle": "2022-01-28T03:23:12.461715Z",
          "shell.execute_reply": "2022-01-28T03:23:12.462187Z",
          "shell.execute_reply.started": "2022-01-27T19:37:06.420038Z"
        },
        "id": "05474c0e",
        "outputId": "10c04ee1-dc89-42b4-9acd-62a552f6fc57",
        "papermill": {
          "duration": 16.943791,
          "end_time": "2022-01-28T03:23:12.462365",
          "exception": false,
          "start_time": "2022-01-28T03:22:55.518574",
          "status": "completed"
        },
        "tags": []
      },
      "outputs": [
        {
          "data": {
            "application/vnd.jupyter.widget-view+json": {
              "model_id": "27b109bbce4c4306a60a4d685adeaddc",
              "version_major": 2,
              "version_minor": 0
            },
            "text/plain": [
              "Downloading model.safetensors:   0%|          | 0.00/436M [00:00<?, ?B/s]"
            ]
          },
          "metadata": {},
          "output_type": "display_data"
        },
        {
          "name": "stderr",
          "output_type": "stream",
          "text": [
            "Some weights of BertForTokenClassification were not initialized from the model checkpoint at bert-base-cased and are newly initialized: ['classifier.bias', 'classifier.weight']\n",
            "You should probably TRAIN this model on a down-stream task to be able to use it for predictions and inference.\n"
          ]
        }
      ],
      "source": [
        "model = BertForTokenClassification.from_pretrained(\n",
        "'bert-base-cased',\n",
        "num_labels=len(tag_idx),\n",
        "output_attentions = False,\n",
        "output_hidden_states = False)"
      ]
    },
    {
      "cell_type": "code",
      "execution_count": 46,
      "id": "1306120b",
      "metadata": {
        "execution": {
          "iopub.execute_input": "2022-01-28T03:23:12.555281Z",
          "iopub.status.busy": "2022-01-28T03:23:12.554457Z",
          "iopub.status.idle": "2022-01-28T03:23:12.556315Z",
          "shell.execute_reply": "2022-01-28T03:23:12.556760Z",
          "shell.execute_reply.started": "2022-01-27T19:37:21.198288Z"
        },
        "id": "1306120b",
        "papermill": {
          "duration": 0.049885,
          "end_time": "2022-01-28T03:23:12.556896",
          "exception": false,
          "start_time": "2022-01-28T03:23:12.507011",
          "status": "completed"
        },
        "tags": []
      },
      "outputs": [],
      "source": [
        "# model.cuda()"
      ]
    },
    {
      "cell_type": "code",
      "execution_count": 47,
      "id": "118a81ea",
      "metadata": {
        "colab": {
          "base_uri": "https://localhost:8080/"
        },
        "execution": {
          "iopub.execute_input": "2022-01-28T03:23:12.654001Z",
          "iopub.status.busy": "2022-01-28T03:23:12.653108Z",
          "iopub.status.idle": "2022-01-28T03:23:12.655346Z",
          "shell.execute_reply": "2022-01-28T03:23:12.655786Z",
          "shell.execute_reply.started": "2022-01-27T19:37:21.20638Z"
        },
        "id": "118a81ea",
        "outputId": "8496a804-41e0-42a4-d85f-a179a13c8a12",
        "papermill": {
          "duration": 0.055197,
          "end_time": "2022-01-28T03:23:12.655916",
          "exception": false,
          "start_time": "2022-01-28T03:23:12.600719",
          "status": "completed"
        },
        "tags": []
      },
      "outputs": [
        {
          "name": "stderr",
          "output_type": "stream",
          "text": [
            "/usr/local/lib/python3.10/dist-packages/transformers/optimization.py:411: FutureWarning: This implementation of AdamW is deprecated and will be removed in a future version. Use the PyTorch implementation torch.optim.AdamW instead, or set `no_deprecation_warning=True` to disable this warning\n",
            "  warnings.warn(\n"
          ]
        }
      ],
      "source": [
        "FULL_FINETUNING = True\n",
        "if FULL_FINETUNING:\n",
        "    param_optimizer = list(model.named_parameters())\n",
        "    no_decay = ['bias', 'gamma', 'beta']\n",
        "    optimizer_grouped_parameters = [\n",
        "        {'params': [p for n, p in param_optimizer if not any(nd in n for nd in no_decay)],\n",
        "         'weight_decay_rate': 0.01},\n",
        "        {'params': [p for n, p in param_optimizer if any(nd in n for nd in no_decay)],\n",
        "         'weight_decay_rate': 0.0}\n",
        "    ]\n",
        "else:\n",
        "    param_optimizer = list(model.classifier.named_parameters())\n",
        "    optimizer_grouped_parameters = [{\"params\": [p for n, p in param_optimizer]}]\n",
        "\n",
        "optimizer = AdamW(\n",
        "    optimizer_grouped_parameters,\n",
        "    lr=3e-5,\n",
        "    eps=1e-8\n",
        ")"
      ]
    },
    {
      "cell_type": "code",
      "execution_count": 48,
      "id": "6a6c23bd",
      "metadata": {
        "execution": {
          "iopub.execute_input": "2022-01-28T03:23:12.748747Z",
          "iopub.status.busy": "2022-01-28T03:23:12.747932Z",
          "iopub.status.idle": "2022-01-28T03:23:12.750314Z",
          "shell.execute_reply": "2022-01-28T03:23:12.749874Z",
          "shell.execute_reply.started": "2022-01-27T19:37:22.619064Z"
        },
        "id": "6a6c23bd",
        "papermill": {
          "duration": 0.050686,
          "end_time": "2022-01-28T03:23:12.750417",
          "exception": false,
          "start_time": "2022-01-28T03:23:12.699731",
          "status": "completed"
        },
        "tags": []
      },
      "outputs": [],
      "source": [
        "from transformers import get_linear_schedule_with_warmup\n",
        "\n",
        "epochs = 5\n",
        "max_grad_norm = 1.0\n",
        "\n",
        "# Total number of training steps is number of batches * number of epochs.\n",
        "total_steps = len(train_dataloader) * epochs\n",
        "\n",
        "# Create the learning rate scheduler.\n",
        "scheduler = get_linear_schedule_with_warmup(\n",
        "    optimizer,\n",
        "    num_warmup_steps=0,\n",
        "    num_training_steps=total_steps\n",
        ")"
      ]
    },
    {
      "cell_type": "code",
      "execution_count": 49,
      "id": "90794875",
      "metadata": {
        "colab": {
          "base_uri": "https://localhost:8080/"
        },
        "execution": {
          "iopub.execute_input": "2022-01-28T03:23:12.841897Z",
          "iopub.status.busy": "2022-01-28T03:23:12.841201Z",
          "iopub.status.idle": "2022-01-28T03:23:25.383826Z",
          "shell.execute_reply": "2022-01-28T03:23:25.383315Z",
          "shell.execute_reply.started": "2022-01-27T19:37:22.63258Z"
        },
        "id": "90794875",
        "outputId": "60569904-0287-489f-afdd-70353a94d689",
        "papermill": {
          "duration": 12.589715,
          "end_time": "2022-01-28T03:23:25.383963",
          "exception": false,
          "start_time": "2022-01-28T03:23:12.794248",
          "status": "completed"
        },
        "tags": []
      },
      "outputs": [
        {
          "name": "stdout",
          "output_type": "stream",
          "text": [
            "Requirement already satisfied: seqeval in /usr/local/lib/python3.10/dist-packages (1.2.2)\n",
            "Requirement already satisfied: numpy>=1.14.0 in /usr/local/lib/python3.10/dist-packages (from seqeval) (1.23.5)\n",
            "Requirement already satisfied: scikit-learn>=0.21.3 in /usr/local/lib/python3.10/dist-packages (from seqeval) (1.2.2)\n",
            "Requirement already satisfied: scipy>=1.3.2 in /usr/local/lib/python3.10/dist-packages (from scikit-learn>=0.21.3->seqeval) (1.11.3)\n",
            "Requirement already satisfied: joblib>=1.1.1 in /usr/local/lib/python3.10/dist-packages (from scikit-learn>=0.21.3->seqeval) (1.3.2)\n",
            "Requirement already satisfied: threadpoolctl>=2.0.0 in /usr/local/lib/python3.10/dist-packages (from scikit-learn>=0.21.3->seqeval) (3.2.0)\n"
          ]
        }
      ],
      "source": [
        "!pip install seqeval"
      ]
    },
    {
      "cell_type": "code",
      "execution_count": 50,
      "id": "c615d0ac",
      "metadata": {
        "execution": {
          "iopub.execute_input": "2022-01-28T03:23:25.481559Z",
          "iopub.status.busy": "2022-01-28T03:23:25.480736Z",
          "iopub.status.idle": "2022-01-28T03:23:25.491317Z",
          "shell.execute_reply": "2022-01-28T03:23:25.490901Z",
          "shell.execute_reply.started": "2022-01-27T19:37:34.760171Z"
        },
        "id": "c615d0ac",
        "papermill": {
          "duration": 0.060212,
          "end_time": "2022-01-28T03:23:25.491437",
          "exception": false,
          "start_time": "2022-01-28T03:23:25.431225",
          "status": "completed"
        },
        "tags": []
      },
      "outputs": [],
      "source": [
        "from seqeval.metrics import f1_score, accuracy_score"
      ]
    },
    {
      "cell_type": "code",
      "execution_count": 51,
      "id": "4804de52",
      "metadata": {
        "execution": {
          "iopub.execute_input": "2022-01-28T03:23:25.587411Z",
          "iopub.status.busy": "2022-01-28T03:23:25.586789Z",
          "iopub.status.idle": "2022-01-28T03:23:25.589028Z",
          "shell.execute_reply": "2022-01-28T03:23:25.589442Z",
          "shell.execute_reply.started": "2022-01-27T19:37:34.774918Z"
        },
        "id": "4804de52",
        "papermill": {
          "duration": 0.051828,
          "end_time": "2022-01-28T03:23:25.589566",
          "exception": false,
          "start_time": "2022-01-28T03:23:25.537738",
          "status": "completed"
        },
        "tags": []
      },
      "outputs": [],
      "source": [
        "from tqdm import tqdm, trange"
      ]
    },
    {
      "cell_type": "code",
      "execution_count": 52,
      "id": "3ef7c1fe",
      "metadata": {
        "colab": {
          "base_uri": "https://localhost:8080/"
        },
        "execution": {
          "iopub.execute_input": "2022-01-28T03:23:25.688404Z",
          "iopub.status.busy": "2022-01-28T03:23:25.687653Z",
          "iopub.status.idle": "2022-01-28T03:23:30.347499Z",
          "shell.execute_reply": "2022-01-28T03:23:30.348430Z",
          "shell.execute_reply.started": "2022-01-27T19:37:34.78658Z"
        },
        "id": "3ef7c1fe",
        "outputId": "51b3811f-a872-49e8-8fd9-b8b3de113a3e",
        "papermill": {
          "duration": 4.712881,
          "end_time": "2022-01-28T03:23:30.348607",
          "exception": false,
          "start_time": "2022-01-28T03:23:25.635726",
          "status": "completed"
        },
        "tags": []
      },
      "outputs": [
        {
          "data": {
            "text/plain": [
              "BertForTokenClassification(\n",
              "  (bert): BertModel(\n",
              "    (embeddings): BertEmbeddings(\n",
              "      (word_embeddings): Embedding(28996, 768, padding_idx=0)\n",
              "      (position_embeddings): Embedding(512, 768)\n",
              "      (token_type_embeddings): Embedding(2, 768)\n",
              "      (LayerNorm): LayerNorm((768,), eps=1e-12, elementwise_affine=True)\n",
              "      (dropout): Dropout(p=0.1, inplace=False)\n",
              "    )\n",
              "    (encoder): BertEncoder(\n",
              "      (layer): ModuleList(\n",
              "        (0-11): 12 x BertLayer(\n",
              "          (attention): BertAttention(\n",
              "            (self): BertSelfAttention(\n",
              "              (query): Linear(in_features=768, out_features=768, bias=True)\n",
              "              (key): Linear(in_features=768, out_features=768, bias=True)\n",
              "              (value): Linear(in_features=768, out_features=768, bias=True)\n",
              "              (dropout): Dropout(p=0.1, inplace=False)\n",
              "            )\n",
              "            (output): BertSelfOutput(\n",
              "              (dense): Linear(in_features=768, out_features=768, bias=True)\n",
              "              (LayerNorm): LayerNorm((768,), eps=1e-12, elementwise_affine=True)\n",
              "              (dropout): Dropout(p=0.1, inplace=False)\n",
              "            )\n",
              "          )\n",
              "          (intermediate): BertIntermediate(\n",
              "            (dense): Linear(in_features=768, out_features=3072, bias=True)\n",
              "            (intermediate_act_fn): GELUActivation()\n",
              "          )\n",
              "          (output): BertOutput(\n",
              "            (dense): Linear(in_features=3072, out_features=768, bias=True)\n",
              "            (LayerNorm): LayerNorm((768,), eps=1e-12, elementwise_affine=True)\n",
              "            (dropout): Dropout(p=0.1, inplace=False)\n",
              "          )\n",
              "        )\n",
              "      )\n",
              "    )\n",
              "  )\n",
              "  (dropout): Dropout(p=0.1, inplace=False)\n",
              "  (classifier): Linear(in_features=768, out_features=10, bias=True)\n",
              ")"
            ]
          },
          "execution_count": 52,
          "metadata": {},
          "output_type": "execute_result"
        }
      ],
      "source": [
        "model.cuda()"
      ]
    },
    {
      "cell_type": "code",
      "execution_count": 54,
      "id": "dc3c76d2",
      "metadata": {
        "colab": {
          "base_uri": "https://localhost:8080/"
        },
        "execution": {
          "iopub.execute_input": "2022-01-28T03:23:30.457875Z",
          "iopub.status.busy": "2022-01-28T03:23:30.456992Z",
          "iopub.status.idle": "2022-01-28T03:49:39.542802Z",
          "shell.execute_reply": "2022-01-28T03:49:39.542048Z",
          "shell.execute_reply.started": "2022-01-27T19:37:39.829936Z"
        },
        "id": "dc3c76d2",
        "outputId": "4ea79f9c-9025-4566-c71e-4d9f08f16e8b",
        "papermill": {
          "duration": 1569.146196,
          "end_time": "2022-01-28T03:49:39.542990",
          "exception": false,
          "start_time": "2022-01-28T03:23:30.396794",
          "status": "completed"
        },
        "tags": []
      },
      "outputs": [
        {
          "name": "stderr",
          "output_type": "stream",
          "text": [
            "\rEpoch:   0%|          | 0/5 [00:00<?, ?it/s]"
          ]
        },
        {
          "name": "stdout",
          "output_type": "stream",
          "text": [
            "Average train loss : 0.04372900202155826\n",
            "Validation loss: 0.028565741746347767\n",
            "Validation Accuracy: 0.9710566306475038\n"
          ]
        },
        {
          "name": "stderr",
          "output_type": "stream",
          "text": [
            "\rEpoch:  20%|██        | 1/5 [13:19<53:18, 799.60s/it]"
          ]
        },
        {
          "name": "stdout",
          "output_type": "stream",
          "text": [
            "Validation F-1 Score:0.8511705558717511\n",
            "Average train loss : 0.02947210380401921\n",
            "Validation loss: 0.018357474341215943\n",
            "Validation Accuracy: 0.9805146983231556\n"
          ]
        },
        {
          "name": "stderr",
          "output_type": "stream",
          "text": [
            "/usr/local/lib/python3.10/dist-packages/seqeval/metrics/sequence_labeling.py:171: UserWarning: PAD seems not to be NE tag.\n",
            "  warnings.warn('{} seems not to be NE tag.'.format(chunk))\n",
            "Epoch:  40%|████      | 2/5 [26:31<39:44, 794.89s/it]"
          ]
        },
        {
          "name": "stdout",
          "output_type": "stream",
          "text": [
            "Validation F-1 Score:0.8956596548127508\n",
            "Average train loss : 0.019704665914273684\n",
            "Validation loss: 0.010685831150462025\n",
            "Validation Accuracy: 0.9886680760309013\n"
          ]
        },
        {
          "name": "stderr",
          "output_type": "stream",
          "text": [
            "\rEpoch:  60%|██████    | 3/5 [39:45<26:29, 794.56s/it]"
          ]
        },
        {
          "name": "stdout",
          "output_type": "stream",
          "text": [
            "Validation F-1 Score:0.9349778424172461\n",
            "Average train loss : 0.013065156477393536\n",
            "Validation loss: 0.006914301351783038\n",
            "Validation Accuracy: 0.9929980392266815\n"
          ]
        },
        {
          "name": "stderr",
          "output_type": "stream",
          "text": [
            "\rEpoch:  80%|████████  | 4/5 [52:59<13:14, 794.34s/it]"
          ]
        },
        {
          "name": "stdout",
          "output_type": "stream",
          "text": [
            "Validation F-1 Score:0.9583127671216104\n",
            "Average train loss : 0.009071549763999674\n",
            "Validation loss: 0.0054110836270578\n",
            "Validation Accuracy: 0.9947999319617266\n"
          ]
        },
        {
          "name": "stderr",
          "output_type": "stream",
          "text": [
            "Epoch: 100%|██████████| 5/5 [1:06:14<00:00, 794.90s/it]"
          ]
        },
        {
          "name": "stdout",
          "output_type": "stream",
          "text": [
            "Validation F-1 Score:0.9682004465241459\n"
          ]
        },
        {
          "name": "stderr",
          "output_type": "stream",
          "text": [
            "\n"
          ]
        }
      ],
      "source": [
        "#storing loss values\n",
        "loss_values, validation_loss_values = [], []\n",
        "\n",
        "#TRAINING AND VALIDATION\n",
        "\n",
        "for _ in trange(epochs, desc= \"Epoch\"):\n",
        "    #/|\\==>TRAINLOOP(ONEPASS)<==\\|/\n",
        "    model.train()\n",
        "    total_loss=0 #so it resets each epoch\n",
        "\n",
        "    for step, batch in enumerate(train_dataloader):\n",
        "        batch = tuple(t.to(device) for t in batch)\n",
        "        b_input_ids, b_input_mask, b_labels = batch #also the order in train_data/val_data\n",
        "\n",
        "        model.zero_grad() #clearing previous gradients for each epoch\n",
        "\n",
        "        outputs = model(b_input_ids, token_type_ids=None,\n",
        "                       attention_mask=b_input_mask, labels=b_labels)#forward pass\n",
        "\n",
        "        loss = outputs[0]\n",
        "        loss.backward() #getting the loss and performing backward pass\n",
        "\n",
        "        total_loss += loss.item() #tracking loss\n",
        "\n",
        "        torch.nn.utils.clip_grad_norm_(parameters=model.parameters(), max_norm=max_grad_norm)\n",
        "        #^^^ preventing exploding grads\n",
        "\n",
        "        optimizer.step() #updates parameters\n",
        "\n",
        "        scheduler.step() #update learning_rate\n",
        "\n",
        "    avg_train_loss = total_loss/len(train_dataloader)\n",
        "    print('Average train loss : {}'.format(avg_train_loss))\n",
        "\n",
        "    loss_values.append(avg_train_loss) #storing loss values if you choose to plot learning curve\n",
        "\n",
        "    #/|\\==>VALIDATION(ONEPASS)<==\\|/\n",
        "    model.eval()\n",
        "\n",
        "    eval_loss, eval_accuracy = 0, 0\n",
        "    nb_eval_steps, nb_eval_examples = 0, 0\n",
        "    predictions, true_labels = [], []\n",
        "\n",
        "    for batch in valid_dataloader:\n",
        "        batch = tuple(t.to(device)for t in batch)\n",
        "        b_input_ids, b_input_mask, b_labels = batch\n",
        "\n",
        "        with torch.no_grad():\n",
        "            outputs = model(b_input_ids, token_type_ids =None,\n",
        "                           attention_mask=b_input_mask, labels=b_labels)\n",
        "\n",
        "        logits = outputs[1].detach().cpu().numpy()\n",
        "        label_ids = b_labels.to('cpu').numpy()\n",
        "\n",
        "        eval_loss += outputs[0].mean().item()\n",
        "        predictions.extend([list(p) for p in np.argmax(logits, axis=2)])\n",
        "        true_labels.extend(label_ids)\n",
        "    eval_loss = eval_loss / len(valid_dataloader)\n",
        "    validation_loss_values.append(eval_loss)\n",
        "    print('Validation loss: {}'.format(eval_loss))\n",
        "\n",
        "    pred_tags = [tag_values[p_i] for p, l in zip(predictions, true_labels)\n",
        "                for p_i, l_i, in zip(p,l)if tag_values[l_i] !='PAD']\n",
        "\n",
        "    valid_tags = [tag_values[l_i]for l in true_labels\n",
        "                 for l_i in l if tag_values[l_i] !='PAD']\n",
        "\n",
        "    print('Validation Accuracy: {}'.format(accuracy_score(pred_tags,valid_tags)))\n",
        "    print('Validation F-1 Score:{}'.format(f1_score([pred_tags], [valid_tags])))\n",
        "\n",
        "\n"
      ]
    },
    {
      "cell_type": "code",
      "execution_count": 55,
      "id": "9bf8e5e3",
      "metadata": {
        "colab": {
          "base_uri": "https://localhost:8080/",
          "height": 573
        },
        "execution": {
          "iopub.execute_input": "2022-01-28T03:49:39.656272Z",
          "iopub.status.busy": "2022-01-28T03:49:39.655684Z",
          "iopub.status.idle": "2022-01-28T03:49:40.007320Z",
          "shell.execute_reply": "2022-01-28T03:49:40.007837Z",
          "shell.execute_reply.started": "2022-01-27T20:03:41.330123Z"
        },
        "id": "9bf8e5e3",
        "outputId": "b1de27de-d166-450e-a190-823023e4d6e4",
        "papermill": {
          "duration": 0.411934,
          "end_time": "2022-01-28T03:49:40.008003",
          "exception": false,
          "start_time": "2022-01-28T03:49:39.596069",
          "status": "completed"
        },
        "tags": []
      },
      "outputs": [
        {
          "data": {
            "image/png": "[encoded data removed]",
            "text/plain": [
              "<Figure size 1200x600 with 1 Axes>"
            ]
          },
          "metadata": {},
          "output_type": "display_data"
        }
      ],
      "source": [
        "import matplotlib.pyplot as plt\n",
        "%matplotlib inline\n",
        "\n",
        "import seaborn as sns\n",
        "\n",
        "sns.set(style='darkgrid')\n",
        "\n",
        "plt.rcParams['figure.figsize'] = (12,6)\n",
        "\n",
        "# Plot the learning curve.\n",
        "plt.plot(loss_values, 'b-o', label=\"training loss\")\n",
        "plt.plot(validation_loss_values, 'r-o', label=\"validation loss\")\n",
        "\n",
        "# Label the plot.\n",
        "plt.title(\"Learning curve\")\n",
        "plt.xlabel(\"Epoch\")\n",
        "plt.ylabel(\"Loss\")\n",
        "plt.legend()\n",
        "\n",
        "plt.show()"
      ]
    },
    {
      "cell_type": "code",
      "execution_count": 267,
      "id": "OJTBcLlG1KzR",
      "metadata": {
        "id": "OJTBcLlG1KzR"
      },
      "outputs": [],
      "source": [
        "## Save model\n",
        "import os\n",
        "PATH = os.getcwd()+ \"/ner_model_pretrained_bert.pt\"\n",
        "TOKENIZER_PATH = os.getcwd() + \"/ner_tokenizer\"\n",
        "# model.save_pretrained(PATH)\n",
        "torch.save(model, PATH)"
      ]
    },
    {
      "cell_type": "code",
      "execution_count": 268,
      "id": "BbvtfvbP1R_o",
      "metadata": {
        "colab": {
          "base_uri": "https://localhost:8080/"
        },
        "id": "BbvtfvbP1R_o",
        "outputId": "5b584c16-471e-49d2-b512-d1cc2ab95f9a"
      },
      "outputs": [
        {
          "data": {
            "text/plain": [
              "('/content/drive/MyDrive/work/ner_tokenizer/tokenizer_config.json',\n",
              " '/content/drive/MyDrive/work/ner_tokenizer/special_tokens_map.json',\n",
              " '/content/drive/MyDrive/work/ner_tokenizer/vocab.txt',\n",
              " '/content/drive/MyDrive/work/ner_tokenizer/added_tokens.json')"
            ]
          },
          "execution_count": 268,
          "metadata": {},
          "output_type": "execute_result"
        }
      ],
      "source": [
        "## Save tokenizer\n",
        "tokenizer.save_pretrained(TOKENIZER_PATH)"
      ]
    },
    {
      "cell_type": "code",
      "execution_count": 325,
      "id": "lztsd7I3Mcgs",
      "metadata": {
        "colab": {
          "base_uri": "https://localhost:8080/"
        },
        "id": "lztsd7I3Mcgs",
        "outputId": "5c15842c-aa8b-41c9-9bef-30c4625b85ef"
      },
      "outputs": [
        {
          "data": {
            "text/plain": [
              "device(type='cuda')"
            ]
          },
          "execution_count": 325,
          "metadata": {},
          "output_type": "execute_result"
        }
      ],
      "source": [
        "device"
      ]
    },
    {
      "cell_type": "code",
      "execution_count": 243,
      "id": "LeXTrHiH1X8H",
      "metadata": {
        "id": "LeXTrHiH1X8H"
      },
      "outputs": [],
      "source": [
        "import json"
      ]
    },
    {
      "cell_type": "code",
      "execution_count": 244,
      "id": "-66BXT9V2clG",
      "metadata": {
        "id": "-66BXT9V2clG"
      },
      "outputs": [],
      "source": [
        "id2label = {\n",
        "    str(i): label for i,label in enumerate(tag_values)\n",
        "}\n",
        "label2id = {\n",
        "    label: str(i) for i,label in enumerate(tag_values)\n",
        "}"
      ]
    },
    {
      "cell_type": "code",
      "execution_count": 245,
      "id": "A2Uwn6bv1azo",
      "metadata": {
        "id": "A2Uwn6bv1azo"
      },
      "outputs": [],
      "source": [
        "config = json.load(open(\"ner_model_pretrained_bert/config.json\"))\n",
        "config[\"id2label\"] = id2label\n",
        "config[\"label2id\"] = label2id\n",
        "json.dump(config, open(\"ner_model_pretrained_bert/config.json\",\"w\"))"
      ]
    },
    {
      "cell_type": "code",
      "execution_count": 269,
      "id": "OkXTgDVa1msi",
      "metadata": {
        "id": "OkXTgDVa1msi"
      },
      "outputs": [],
      "source": [
        "# model_fine_tuned = BertForTokenClassification.from_pretrained(PATH)\n",
        "model_fine_tuned = torch.load(PATH)\n",
        "model_fine_tuned = model_fine_tuned.to(device)"
      ]
    },
    {
      "cell_type": "code",
      "execution_count": 270,
      "id": "lqfXfwi44qbk",
      "metadata": {
        "colab": {
          "base_uri": "https://localhost:8080/"
        },
        "id": "lqfXfwi44qbk",
        "outputId": "3b77dfc6-9833-42d0-cdd0-adcc0ad427f7"
      },
      "outputs": [
        {
          "name": "stderr",
          "output_type": "stream",
          "text": [
            "Special tokens have been added in the vocabulary, make sure the associated word embeddings are fine-tuned or trained.\n"
          ]
        }
      ],
      "source": [
        "tokenizer_bert = BertTokenizer.from_pretrained(TOKENIZER_PATH)"
      ]
    },
    {
      "cell_type": "code",
      "execution_count": 271,
      "id": "693ec064",
      "metadata": {
        "execution": {
          "iopub.execute_input": "2022-01-28T03:49:40.118638Z",
          "iopub.status.busy": "2022-01-28T03:49:40.118001Z",
          "iopub.status.idle": "2022-01-28T03:49:40.120244Z",
          "shell.execute_reply": "2022-01-28T03:49:40.120650Z",
          "shell.execute_reply.started": "2022-01-27T20:21:52.589537Z"
        },
        "id": "693ec064",
        "papermill": {
          "duration": 0.059392,
          "end_time": "2022-01-28T03:49:40.120785",
          "exception": false,
          "start_time": "2022-01-28T03:49:40.061393",
          "status": "completed"
        },
        "tags": []
      },
      "outputs": [],
      "source": [
        "test_sentence = \"\"\"Huy and Tuong were running in the forest with their dog yesterday in Da Nang\"\"\""
      ]
    },
    {
      "cell_type": "code",
      "execution_count": 272,
      "id": "002efdab",
      "metadata": {
        "execution": {
          "iopub.execute_input": "2022-01-28T03:49:40.232231Z",
          "iopub.status.busy": "2022-01-28T03:49:40.231636Z",
          "iopub.status.idle": "2022-01-28T03:49:40.234195Z",
          "shell.execute_reply": "2022-01-28T03:49:40.234578Z",
          "shell.execute_reply.started": "2022-01-27T20:21:55.195034Z"
        },
        "id": "002efdab",
        "papermill": {
          "duration": 0.061022,
          "end_time": "2022-01-28T03:49:40.234722",
          "exception": false,
          "start_time": "2022-01-28T03:49:40.173700",
          "status": "completed"
        },
        "tags": []
      },
      "outputs": [],
      "source": [
        "tokenized_sentence = tokenizer_bert.encode(test_sentence)\n",
        "input_ids = torch.tensor([tokenized_sentence]).cuda()"
      ]
    },
    {
      "cell_type": "code",
      "execution_count": 250,
      "id": "fe38ba16",
      "metadata": {
        "execution": {
          "iopub.execute_input": "2022-01-28T03:49:40.343608Z",
          "iopub.status.busy": "2022-01-28T03:49:40.342747Z",
          "iopub.status.idle": "2022-01-28T03:49:40.356103Z",
          "shell.execute_reply": "2022-01-28T03:49:40.356536Z",
          "shell.execute_reply.started": "2022-01-27T20:22:00.882713Z"
        },
        "id": "fe38ba16",
        "papermill": {
          "duration": 0.068951,
          "end_time": "2022-01-28T03:49:40.356675",
          "exception": false,
          "start_time": "2022-01-28T03:49:40.287724",
          "status": "completed"
        },
        "tags": []
      },
      "outputs": [],
      "source": [
        "with torch.no_grad():\n",
        "    output = model_fine_tuned(input_ids)\n",
        "    label_indices = np.argmax(output[0].to('cpu').numpy(),axis=2)"
      ]
    },
    {
      "cell_type": "code",
      "execution_count": 251,
      "id": "279efc4c",
      "metadata": {
        "execution": {
          "iopub.execute_input": "2022-01-28T03:49:40.468684Z",
          "iopub.status.busy": "2022-01-28T03:49:40.464403Z",
          "iopub.status.idle": "2022-01-28T03:49:40.471065Z",
          "shell.execute_reply": "2022-01-28T03:49:40.470602Z",
          "shell.execute_reply.started": "2022-01-27T20:22:03.029377Z"
        },
        "id": "279efc4c",
        "papermill": {
          "duration": 0.061814,
          "end_time": "2022-01-28T03:49:40.471169",
          "exception": false,
          "start_time": "2022-01-28T03:49:40.409355",
          "status": "completed"
        },
        "tags": []
      },
      "outputs": [],
      "source": [
        "tokens = tokenizer_bert.convert_ids_to_tokens(input_ids.to('cpu').numpy()[0])\n",
        "\n",
        "new_tokens, new_labels = [], []\n",
        "\n",
        "for token, label_idx in zip(tokens, label_indices[0]):\n",
        "    if token.startswith('##'):\n",
        "        new_tokens[-1] = new_tokens[-1] + token[2:]\n",
        "    else:\n",
        "        new_labels.append(tag_values[label_idx])\n",
        "        new_tokens.append(token)"
      ]
    },
    {
      "cell_type": "code",
      "execution_count": 252,
      "id": "378bee69",
      "metadata": {
        "colab": {
          "base_uri": "https://localhost:8080/"
        },
        "execution": {
          "iopub.execute_input": "2022-01-28T03:49:40.601248Z",
          "iopub.status.busy": "2022-01-28T03:49:40.586752Z",
          "iopub.status.idle": "2022-01-28T03:49:40.607155Z",
          "shell.execute_reply": "2022-01-28T03:49:40.607761Z"
        },
        "id": "378bee69",
        "outputId": "38d6c32e-0dd7-41ca-9958-d6a70a233118",
        "papermill": {
          "duration": 0.082722,
          "end_time": "2022-01-28T03:49:40.607934",
          "exception": false,
          "start_time": "2022-01-28T03:49:40.525212",
          "status": "completed"
        },
        "tags": []
      },
      "outputs": [
        {
          "name": "stdout",
          "output_type": "stream",
          "text": [
            "                                   Free flow of Text Extracted Name  \\\n",
            "0  Huy and Tuong were running in the forest with ...   [Huy, Tuong]   \n",
            "\n",
            "  Extracted Location Extracted Organization Extracted Time  \n",
            "0          [Da Nang]                     []    [yesterday]  \n"
          ]
        }
      ],
      "source": [
        "names = []\n",
        "locs = []\n",
        "orgs = []\n",
        "tims = []\n",
        "\n",
        "curr_name = \"\"\n",
        "curr_loc = \"\"\n",
        "curr_org = \"\"\n",
        "curr_tim = \"\"\n",
        "for i in range(len(new_tokens)):\n",
        "    if new_labels[i] != 'O':\n",
        "        leb = new_labels[i]\n",
        "        if leb == \"B-per\":\n",
        "            if curr_loc != \"\":\n",
        "                locs.append(curr_loc)\n",
        "                curr_loc = \"\"\n",
        "            if curr_org != \"\":\n",
        "                orgs.append(curr_org)\n",
        "                curr_org = \"\"\n",
        "            if curr_tim != \"\":\n",
        "                tims.append(curr_tim)\n",
        "                curr_tim = \"\"\n",
        "            if curr_name != \"\":\n",
        "                curr_name += \" \"\n",
        "            curr_name += new_tokens[i]\n",
        "\n",
        "\n",
        "        if leb == \"I-per\":\n",
        "            if curr_loc != \"\":\n",
        "                locs.append(curr_loc)\n",
        "                curr_loc = \"\"\n",
        "            if curr_org != \"\":\n",
        "                orgs.append(curr_org)\n",
        "                curr_org = \"\"\n",
        "            if curr_tim != \"\":\n",
        "                tims.append(curr_tim)\n",
        "                curr_tim = \"\"\n",
        "            if curr_name != \"\":\n",
        "                curr_name += \" \"\n",
        "            curr_name += new_tokens[i]\n",
        "\n",
        "        if leb == \"B-geo\":\n",
        "            if curr_name != \"\":\n",
        "                names.append(curr_name)\n",
        "                curr_name = \"\"\n",
        "            if curr_org != \"\":\n",
        "                orgs.append(curr_org)\n",
        "                curr_org = \"\"\n",
        "            if curr_tim != \"\":\n",
        "                tims.append(curr_tim)\n",
        "                curr_tim = \"\"\n",
        "            if curr_loc != \"\":\n",
        "                curr_loc += \" \"\n",
        "            curr_loc += new_tokens[i]\n",
        "\n",
        "        if leb == \"I-geo\":\n",
        "            if curr_name != \"\":\n",
        "                names.append(curr_name)\n",
        "                curr_name = \"\"\n",
        "            if curr_org != \"\":\n",
        "                orgs.append(curr_org)\n",
        "                curr_org = \"\"\n",
        "            if curr_tim != \"\":\n",
        "                tims.append(curr_tim)\n",
        "                curr_tim = \"\"\n",
        "            if curr_loc != \"\":\n",
        "                curr_loc += \" \"\n",
        "            curr_loc += new_tokens[i]\n",
        "\n",
        "        if leb == \"B-org\":\n",
        "            if curr_loc != \"\":\n",
        "                locs.append(curr_loc)\n",
        "                curr_loc = \"\"\n",
        "            if curr_name != \"\":\n",
        "                names.append(curr_name)\n",
        "                curr_name = \"\"\n",
        "            if curr_tim != \"\":\n",
        "                tims.append(curr_tim)\n",
        "                curr_tim = \"\"\n",
        "            if curr_org != \"\":\n",
        "                curr_org += \" \"\n",
        "            curr_org += new_tokens[i]\n",
        "\n",
        "\n",
        "\n",
        "        if leb == \"I-org\":\n",
        "            if curr_loc != \"\":\n",
        "                locs.append(curr_loc)\n",
        "                curr_loc = \"\"\n",
        "            if curr_name != \"\":\n",
        "                names.append(curr_name)\n",
        "                curr_name = \"\"\n",
        "            if curr_tim != \"\":\n",
        "                tims.append(curr_tim)\n",
        "                curr_tim = \"\"\n",
        "            if curr_org != \"\":\n",
        "                curr_org += \" \"\n",
        "            curr_org += new_tokens[i]\n",
        "\n",
        "        if leb == \"B-tim\":\n",
        "            if curr_loc != \"\":\n",
        "                locs.append(curr_loc)\n",
        "                curr_loc = \"\"\n",
        "            if curr_name != \"\":\n",
        "                names.append(curr_name)\n",
        "                curr_name = \"\"\n",
        "            if curr_org != \"\":\n",
        "                locs.append(curr_org)\n",
        "                curr_org = \"\"\n",
        "            if curr_tim != \"\":\n",
        "                curr_tim += \" \"\n",
        "            curr_tim += new_tokens[i]\n",
        "\n",
        "        if leb == \"I-tim\":\n",
        "            if curr_loc != \"\":\n",
        "                locs.append(curr_loc)\n",
        "                curr_loc = \"\"\n",
        "            if curr_name != \"\":\n",
        "                names.append(curr_name)\n",
        "                curr_name = \"\"\n",
        "            if curr_org != \"\":\n",
        "                locs.append(curr_org)\n",
        "                curr_org = \"\"\n",
        "            if curr_tim != \"\":\n",
        "                curr_tim += \" \"\n",
        "            curr_tim += new_tokens[i]\n",
        "\n",
        "    else:\n",
        "        if curr_name != \"\":\n",
        "            names.append(curr_name)\n",
        "            curr_name = \"\"\n",
        "        if curr_loc != \"\":\n",
        "            locs.append(curr_loc)\n",
        "            curr_loc = \"\"\n",
        "        if curr_org != \"\":\n",
        "            orgs.append(curr_org)\n",
        "            curr_org = \"\"\n",
        "        if curr_tim != \"\":\n",
        "            tims.append(curr_tim)\n",
        "            curr_tim = \"\"\n",
        "\n",
        "\n",
        "\n",
        "df = pd.DataFrame()\n",
        "df[\"Free flow of Text\"] = [test_sentence]\n",
        "df[\"Extracted Name\"] = [names]\n",
        "df[\"Extracted Location\"] = [locs]\n",
        "df[\"Extracted Organization\"] = [orgs]\n",
        "df[\"Extracted Time\"] = [tims]\n",
        "\n",
        "print(df)\n",
        "\n",
        "df.to_csv(\"output1.csv\", index=False)"
      ]
    },
    {
      "cell_type": "code",
      "execution_count": 253,
      "id": "3806b9a4",
      "metadata": {
        "colab": {
          "base_uri": "https://localhost:8080/",
          "height": 81
        },
        "id": "3806b9a4",
        "outputId": "8866d050-b29a-41cb-91c7-edecdc559126",
        "papermill": {
          "duration": 0.054491,
          "end_time": "2022-01-28T03:49:40.716329",
          "exception": false,
          "start_time": "2022-01-28T03:49:40.661838",
          "status": "completed"
        },
        "tags": []
      },
      "outputs": [
        {
          "data": {
            "text/html": [
              "\n",
              "  <div id=\"df-849d8eb1-5b8b-4f32-9327-bed86a87ad99\" class=\"colab-df-container\">\n",
              "    <div>\n",
              "<style scoped>\n",
              "    .dataframe tbody tr th:only-of-type {\n",
              "        vertical-align: middle;\n",
              "    }\n",
              "\n",
              "    .dataframe tbody tr th {\n",
              "        vertical-align: top;\n",
              "    }\n",
              "\n",
              "    .dataframe thead th {\n",
              "        text-align: right;\n",
              "    }\n",
              "</style>\n",
              "<table border=\"1\" class=\"dataframe\">\n",
              "  <thead>\n",
              "    <tr style=\"text-align: right;\">\n",
              "      <th></th>\n",
              "      <th>Free flow of Text</th>\n",
              "      <th>Extracted Name</th>\n",
              "      <th>Extracted Location</th>\n",
              "      <th>Extracted Organization</th>\n",
              "      <th>Extracted Time</th>\n",
              "    </tr>\n",
              "  </thead>\n",
              "  <tbody>\n",
              "    <tr>\n",
              "      <th>0</th>\n",
              "      <td>Huy and Tuong were running in the forest with ...</td>\n",
              "      <td>[Huy, Tuong]</td>\n",
              "      <td>[Da Nang]</td>\n",
              "      <td>[]</td>\n",
              "      <td>[yesterday]</td>\n",
              "    </tr>\n",
              "  </tbody>\n",
              "</table>\n",
              "</div>\n",
              "    <div class=\"colab-df-buttons\">\n",
              "\n",
              "  <div class=\"colab-df-container\">\n",
              "    <button class=\"colab-df-convert\" onclick=\"convertToInteractive('df-849d8eb1-5b8b-4f32-9327-bed86a87ad99')\"\n",
              "            title=\"Convert this dataframe to an interactive table.\"\n",
              "            style=\"display:none;\">\n",
              "\n",
              "  <svg xmlns=\"http://www.w3.org/2000/svg\" height=\"24px\" viewBox=\"0 -960 960 960\">\n",
              "    <path d=\"M120-120v-720h720v720H120Zm60-500h600v-160H180v160Zm220 220h160v-160H400v160Zm0 220h160v-160H400v160ZM180-400h160v-160H180v160Zm440 0h160v-160H620v160ZM180-180h160v-160H180v160Zm440 0h160v-160H620v160Z\"/>\n",
              "  </svg>\n",
              "    </button>\n",
              "\n",
              "  <style>\n",
              "    .colab-df-container {\n",
              "      display:flex;\n",
              "      gap: 12px;\n",
              "    }\n",
              "\n",
              "    .colab-df-convert {\n",
              "      background-color: #E8F0FE;\n",
              "      border: none;\n",
              "      border-radius: 50%;\n",
              "      cursor: pointer;\n",
              "      display: none;\n",
              "      fill: #1967D2;\n",
              "      height: 32px;\n",
              "      padding: 0 0 0 0;\n",
              "      width: 32px;\n",
              "    }\n",
              "\n",
              "    .colab-df-convert:hover {\n",
              "      background-color: #E2EBFA;\n",
              "      box-shadow: 0px 1px 2px rgba(60, 64, 67, 0.3), 0px 1px 3px 1px rgba(60, 64, 67, 0.15);\n",
              "      fill: #174EA6;\n",
              "    }\n",
              "\n",
              "    .colab-df-buttons div {\n",
              "      margin-bottom: 4px;\n",
              "    }\n",
              "\n",
              "    [theme=dark] .colab-df-convert {\n",
              "      background-color: #3B4455;\n",
              "      fill: #D2E3FC;\n",
              "    }\n",
              "\n",
              "    [theme=dark] .colab-df-convert:hover {\n",
              "      background-color: #434B5C;\n",
              "      box-shadow: 0px 1px 3px 1px rgba(0, 0, 0, 0.15);\n",
              "      filter: drop-shadow(0px 1px 2px rgba(0, 0, 0, 0.3));\n",
              "      fill: #FFFFFF;\n",
              "    }\n",
              "  </style>\n",
              "\n",
              "    <script>\n",
              "      const buttonEl =\n",
              "        document.querySelector('#df-849d8eb1-5b8b-4f32-9327-bed86a87ad99 button.colab-df-convert');\n",
              "      buttonEl.style.display =\n",
              "        google.colab.kernel.accessAllowed ? 'block' : 'none';\n",
              "\n",
              "      async function convertToInteractive(key) {\n",
              "        const element = document.querySelector('#df-849d8eb1-5b8b-4f32-9327-bed86a87ad99');\n",
              "        const dataTable =\n",
              "          await google.colab.kernel.invokeFunction('convertToInteractive',\n",
              "                                                    [key], {});\n",
              "        if (!dataTable) return;\n",
              "\n",
              "        const docLinkHtml = 'Like what you see? Visit the ' +\n",
              "          '<a target=\"_blank\" href=https://colab.research.google.com/notebooks/data_table.ipynb>data table notebook</a>'\n",
              "          + ' to learn more about interactive tables.';\n",
              "        element.innerHTML = '';\n",
              "        dataTable['output_type'] = 'display_data';\n",
              "        await google.colab.output.renderOutput(dataTable, element);\n",
              "        const docLink = document.createElement('div');\n",
              "        docLink.innerHTML = docLinkHtml;\n",
              "        element.appendChild(docLink);\n",
              "      }\n",
              "    </script>\n",
              "  </div>\n",
              "\n",
              "    </div>\n",
              "  </div>\n"
            ],
            "text/plain": [
              "                                   Free flow of Text Extracted Name  \\\n",
              "0  Huy and Tuong were running in the forest with ...   [Huy, Tuong]   \n",
              "\n",
              "  Extracted Location Extracted Organization Extracted Time  \n",
              "0          [Da Nang]                     []    [yesterday]  "
            ]
          },
          "execution_count": 253,
          "metadata": {},
          "output_type": "execute_result"
        }
      ],
      "source": [
        "df"
      ]
    },
    {
      "cell_type": "code",
      "execution_count": 254,
      "id": "vxVxL4hvzwuY",
      "metadata": {
        "id": "vxVxL4hvzwuY"
      },
      "outputs": [],
      "source": [
        "# !pip install parsedatetime"
      ]
    },
    {
      "cell_type": "code",
      "execution_count": 255,
      "id": "nw2AY5Np0WQL",
      "metadata": {
        "colab": {
          "base_uri": "https://localhost:8080/",
          "height": 36
        },
        "id": "nw2AY5Np0WQL",
        "outputId": "2c71f5cc-3cd8-414f-d41a-8972601b1e9c"
      },
      "outputs": [
        {
          "data": {
            "application/vnd.google.colaboratory.intrinsic+json": {
              "type": "string"
            },
            "text/plain": [
              "'yesterday'"
            ]
          },
          "execution_count": 255,
          "metadata": {},
          "output_type": "execute_result"
        }
      ],
      "source": [
        "df[\"Extracted Time\"][0][0]"
      ]
    },
    {
      "cell_type": "code",
      "execution_count": 256,
      "id": "J7wBMkDKz_80",
      "metadata": {
        "colab": {
          "base_uri": "https://localhost:8080/"
        },
        "id": "J7wBMkDKz_80",
        "outputId": "f42b9253-c3dc-4723-c27e-941326058e27"
      },
      "outputs": [
        {
          "data": {
            "text/plain": [
              "datetime.datetime(2023, 10, 12, 9, 0)"
            ]
          },
          "execution_count": 256,
          "metadata": {},
          "output_type": "execute_result"
        }
      ],
      "source": [
        "from datetime import datetime\n",
        "import parsedatetime\n",
        "\n",
        "cal = parsedatetime.Calendar()\n",
        "time_struct, parse_status = cal.parse(df[\"Extracted Time\"][0][0])\n",
        "datetime(*time_struct[:6])"
      ]
    },
    {
      "cell_type": "code",
      "execution_count": 365,
      "id": "miS1Ov6hPHON",
      "metadata": {
        "id": "miS1Ov6hPHON"
      },
      "outputs": [],
      "source": [
        "import pickle\n",
        "\n",
        "# saving\n",
        "with open('tokenizer.pickle', 'wb') as handle:\n",
        "    pickle.dump(tokenizer, handle, protocol=pickle.HIGHEST_PROTOCOL)"
      ]
    }
  ],
  "metadata": {
    "accelerator": "GPU",
    "colab": {
      "gpuType": "T4",
      "provenance": []
    },
    "kernelspec": {
      "display_name": "Python 3",
      "name": "python3"
    },
    "language_info": {
      "codemirror_mode": {
        "name": "ipython",
        "version": 3
      },
      "file_extension": ".py",
      "mimetype": "text/x-python",
      "name": "python",
      "nbconvert_exporter": "python",
      "pygments_lexer": "ipython3",
      "version": "3.7.10"
    },
    "papermill": {
      "default_parameters": {},
      "duration": 1703.032638,
      "end_time": "2022-01-28T03:49:43.480678",
      "environment_variables": {},
      "exception": null,
      "input_path": "__notebook__.ipynb",
      "output_path": "__notebook__.ipynb",
      "parameters": {},
      "start_time": "2022-01-28T03:21:20.448040",
      "version": "2.3.3"
    },
    "widgets": {
      "application/vnd.jupyter.widget-state+json": {
        "09a0a5c1150245e19cb3adf72bf86844": {
          "model_module": "@jupyter-widgets/controls",
          "model_module_version": "1.5.0",
          "model_name": "DescriptionStyleModel",
          "state": {
            "_model_module": "@jupyter-widgets/controls",
            "_model_module_version": "1.5.0",
            "_model_name": "DescriptionStyleModel",
            "_view_count": null,
            "_view_module": "@jupyter-widgets/base",
            "_view_module_version": "1.2.0",
            "_view_name": "StyleView",
            "description_width": ""
          }
        },
        "27b109bbce4c4306a60a4d685adeaddc": {
          "model_module": "@jupyter-widgets/controls",
          "model_module_version": "1.5.0",
          "model_name": "HBoxModel",
          "state": {
            "_dom_classes": [],
            "_model_module": "@jupyter-widgets/controls",
            "_model_module_version": "1.5.0",
            "_model_name": "HBoxModel",
            "_view_count": null,
            "_view_module": "@jupyter-widgets/controls",
            "_view_module_version": "1.5.0",
            "_view_name": "HBoxView",
            "box_style": "",
            "children": [
              "IPY_MODEL_730443d3555647f9a752fbaad2d1841e",
              "IPY_MODEL_4d4b2a17e7014379a120584020e9a5e7",
              "IPY_MODEL_4261e55616734551972e44a2ae9b2dfe"
            ],
            "layout": "IPY_MODEL_f1655977c32a4424905fb8f37c0eceb0"
          }
        },
        "4177f99f3dae45c3bce862d425298fad": {
          "model_module": "@jupyter-widgets/controls",
          "model_module_version": "1.5.0",
          "model_name": "DescriptionStyleModel",
          "state": {
            "_model_module": "@jupyter-widgets/controls",
            "_model_module_version": "1.5.0",
            "_model_name": "DescriptionStyleModel",
            "_view_count": null,
            "_view_module": "@jupyter-widgets/base",
            "_view_module_version": "1.2.0",
            "_view_name": "StyleView",
            "description_width": ""
          }
        },
        "4261e55616734551972e44a2ae9b2dfe": {
          "model_module": "@jupyter-widgets/controls",
          "model_module_version": "1.5.0",
          "model_name": "HTMLModel",
          "state": {
            "_dom_classes": [],
            "_model_module": "@jupyter-widgets/controls",
            "_model_module_version": "1.5.0",
            "_model_name": "HTMLModel",
            "_view_count": null,
            "_view_module": "@jupyter-widgets/controls",
            "_view_module_version": "1.5.0",
            "_view_name": "HTMLView",
            "description": "",
            "description_tooltip": null,
            "layout": "IPY_MODEL_6124532a36014aefb11ad0120e409ec7",
            "placeholder": "​",
            "style": "IPY_MODEL_09a0a5c1150245e19cb3adf72bf86844",
            "value": " 436M/436M [00:05&lt;00:00, 117MB/s]"
          }
        },
        "4d4b2a17e7014379a120584020e9a5e7": {
          "model_module": "@jupyter-widgets/controls",
          "model_module_version": "1.5.0",
          "model_name": "FloatProgressModel",
          "state": {
            "_dom_classes": [],
            "_model_module": "@jupyter-widgets/controls",
            "_model_module_version": "1.5.0",
            "_model_name": "FloatProgressModel",
            "_view_count": null,
            "_view_module": "@jupyter-widgets/controls",
            "_view_module_version": "1.5.0",
            "_view_name": "ProgressView",
            "bar_style": "success",
            "description": "",
            "description_tooltip": null,
            "layout": "IPY_MODEL_e34e4d07482e4bac9b3a002d9727dc4a",
            "max": 435755784,
            "min": 0,
            "orientation": "horizontal",
            "style": "IPY_MODEL_704bd040c5844e9ba41a628c8e400116",
            "value": 435755784
          }
        },
        "6124532a36014aefb11ad0120e409ec7": {
          "model_module": "@jupyter-widgets/base",
          "model_module_version": "1.2.0",
          "model_name": "LayoutModel",
          "state": {
            "_model_module": "@jupyter-widgets/base",
            "_model_module_version": "1.2.0",
            "_model_name": "LayoutModel",
            "_view_count": null,
            "_view_module": "@jupyter-widgets/base",
            "_view_module_version": "1.2.0",
            "_view_name": "LayoutView",
            "align_content": null,
            "align_items": null,
            "align_self": null,
            "border": null,
            "bottom": null,
            "display": null,
            "flex": null,
            "flex_flow": null,
            "grid_area": null,
            "grid_auto_columns": null,
            "grid_auto_flow": null,
            "grid_auto_rows": null,
            "grid_column": null,
            "grid_gap": null,
            "grid_row": null,
            "grid_template_areas": null,
            "grid_template_columns": null,
            "grid_template_rows": null,
            "height": null,
            "justify_content": null,
            "justify_items": null,
            "left": null,
            "margin": null,
            "max_height": null,
            "max_width": null,
            "min_height": null,
            "min_width": null,
            "object_fit": null,
            "object_position": null,
            "order": null,
            "overflow": null,
            "overflow_x": null,
            "overflow_y": null,
            "padding": null,
            "right": null,
            "top": null,
            "visibility": null,
            "width": null
          }
        },
        "704bd040c5844e9ba41a628c8e400116": {
          "model_module": "@jupyter-widgets/controls",
          "model_module_version": "1.5.0",
          "model_name": "ProgressStyleModel",
          "state": {
            "_model_module": "@jupyter-widgets/controls",
            "_model_module_version": "1.5.0",
            "_model_name": "ProgressStyleModel",
            "_view_count": null,
            "_view_module": "@jupyter-widgets/base",
            "_view_module_version": "1.2.0",
            "_view_name": "StyleView",
            "bar_color": null,
            "description_width": ""
          }
        },
        "730443d3555647f9a752fbaad2d1841e": {
          "model_module": "@jupyter-widgets/controls",
          "model_module_version": "1.5.0",
          "model_name": "HTMLModel",
          "state": {
            "_dom_classes": [],
            "_model_module": "@jupyter-widgets/controls",
            "_model_module_version": "1.5.0",
            "_model_name": "HTMLModel",
            "_view_count": null,
            "_view_module": "@jupyter-widgets/controls",
            "_view_module_version": "1.5.0",
            "_view_name": "HTMLView",
            "description": "",
            "description_tooltip": null,
            "layout": "IPY_MODEL_a31902332b1b4181958913e02eb5c7a0",
            "placeholder": "​",
            "style": "IPY_MODEL_4177f99f3dae45c3bce862d425298fad",
            "value": "Downloading model.safetensors: 100%"
          }
        },
        "a31902332b1b4181958913e02eb5c7a0": {
          "model_module": "@jupyter-widgets/base",
          "model_module_version": "1.2.0",
          "model_name": "LayoutModel",
          "state": {
            "_model_module": "@jupyter-widgets/base",
            "_model_module_version": "1.2.0",
            "_model_name": "LayoutModel",
            "_view_count": null,
            "_view_module": "@jupyter-widgets/base",
            "_view_module_version": "1.2.0",
            "_view_name": "LayoutView",
            "align_content": null,
            "align_items": null,
            "align_self": null,
            "border": null,
            "bottom": null,
            "display": null,
            "flex": null,
            "flex_flow": null,
            "grid_area": null,
            "grid_auto_columns": null,
            "grid_auto_flow": null,
            "grid_auto_rows": null,
            "grid_column": null,
            "grid_gap": null,
            "grid_row": null,
            "grid_template_areas": null,
            "grid_template_columns": null,
            "grid_template_rows": null,
            "height": null,
            "justify_content": null,
            "justify_items": null,
            "left": null,
            "margin": null,
            "max_height": null,
            "max_width": null,
            "min_height": null,
            "min_width": null,
            "object_fit": null,
            "object_position": null,
            "order": null,
            "overflow": null,
            "overflow_x": null,
            "overflow_y": null,
            "padding": null,
            "right": null,
            "top": null,
            "visibility": null,
            "width": null
          }
        },
        "e34e4d07482e4bac9b3a002d9727dc4a": {
          "model_module": "@jupyter-widgets/base",
          "model_module_version": "1.2.0",
          "model_name": "LayoutModel",
          "state": {
            "_model_module": "@jupyter-widgets/base",
            "_model_module_version": "1.2.0",
            "_model_name": "LayoutModel",
            "_view_count": null,
            "_view_module": "@jupyter-widgets/base",
            "_view_module_version": "1.2.0",
            "_view_name": "LayoutView",
            "align_content": null,
            "align_items": null,
            "align_self": null,
            "border": null,
            "bottom": null,
            "display": null,
            "flex": null,
            "flex_flow": null,
            "grid_area": null,
            "grid_auto_columns": null,
            "grid_auto_flow": null,
            "grid_auto_rows": null,
            "grid_column": null,
            "grid_gap": null,
            "grid_row": null,
            "grid_template_areas": null,
            "grid_template_columns": null,
            "grid_template_rows": null,
            "height": null,
            "justify_content": null,
            "justify_items": null,
            "left": null,
            "margin": null,
            "max_height": null,
            "max_width": null,
            "min_height": null,
            "min_width": null,
            "object_fit": null,
            "object_position": null,
            "order": null,
            "overflow": null,
            "overflow_x": null,
            "overflow_y": null,
            "padding": null,
            "right": null,
            "top": null,
            "visibility": null,
            "width": null
          }
        },
        "f1655977c32a4424905fb8f37c0eceb0": {
          "model_module": "@jupyter-widgets/base",
          "model_module_version": "1.2.0",
          "model_name": "LayoutModel",
          "state": {
            "_model_module": "@jupyter-widgets/base",
            "_model_module_version": "1.2.0",
            "_model_name": "LayoutModel",
            "_view_count": null,
            "_view_module": "@jupyter-widgets/base",
            "_view_module_version": "1.2.0",
            "_view_name": "LayoutView",
            "align_content": null,
            "align_items": null,
            "align_self": null,
            "border": null,
            "bottom": null,
            "display": null,
            "flex": null,
            "flex_flow": null,
            "grid_area": null,
            "grid_auto_columns": null,
            "grid_auto_flow": null,
            "grid_auto_rows": null,
            "grid_column": null,
            "grid_gap": null,
            "grid_row": null,
            "grid_template_areas": null,
            "grid_template_columns": null,
            "grid_template_rows": null,
            "height": null,
            "justify_content": null,
            "justify_items": null,
            "left": null,
            "margin": null,
            "max_height": null,
            "max_width": null,
            "min_height": null,
            "min_width": null,
            "object_fit": null,
            "object_position": null,
            "order": null,
            "overflow": null,
            "overflow_x": null,
            "overflow_y": null,
            "padding": null,
            "right": null,
            "top": null,
            "visibility": null,
            "width": null
          }
        }
      }
    }
  },
  "nbformat": 4,
  "nbformat_minor": 5
}
