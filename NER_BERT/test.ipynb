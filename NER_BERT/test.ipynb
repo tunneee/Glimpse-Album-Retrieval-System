{
 "cells": [
  {
   "cell_type": "code",
   "execution_count": 1,
   "metadata": {},
   "outputs": [],
   "source": [
    "import pandas as pd\n",
    "import numpy as np\n",
    "import os\n",
    "\n",
    "from transformers import BertTokenizer, BertConfig\n",
    "from keras_preprocessing.sequence import pad_sequences\n",
    "from transformers import BertForTokenClassification, AdamW\n",
    "import torch\n",
    "import pickle\n",
    "import parsedatetime\n",
    "import datetime\n",
    "\n",
    "from name_entity_recognition import *"
   ]
  },
  {
   "cell_type": "code",
   "execution_count": 2,
   "metadata": {},
   "outputs": [
    {
     "data": {
      "text/plain": [
       "'d:\\\\Study\\\\Code\\\\AI\\\\Lifelogging\\\\Named-Entity-Recognition\\\\NER_BERT\\\\work'"
      ]
     },
     "execution_count": 2,
     "metadata": {},
     "output_type": "execute_result"
    }
   ],
   "source": [
    "os.getcwd()"
   ]
  },
  {
   "cell_type": "code",
   "execution_count": 3,
   "metadata": {},
   "outputs": [],
   "source": [
    "PATH = os.getcwd()+ \"/ner_model_pretrained_bert.pth\"\n",
    "TOKENIZER_PATH = os.getcwd() + \"/ner_tokenizer\""
   ]
  },
  {
   "cell_type": "code",
   "execution_count": 4,
   "metadata": {},
   "outputs": [
    {
     "data": {
      "text/plain": [
       "device(type='cuda')"
      ]
     },
     "execution_count": 4,
     "metadata": {},
     "output_type": "execute_result"
    }
   ],
   "source": [
    "device = torch.device('cuda' if torch.cuda.is_available() else 'cpu')\n",
    "device"
   ]
  },
  {
   "cell_type": "code",
   "execution_count": 5,
   "metadata": {},
   "outputs": [],
   "source": [
    "test_sentence = \"\"\"Huy and Tuong were running in the forest with their dog on Sep 25 2019 in FPT UNIVERSITY Da Nang\"\"\""
   ]
  },
  {
   "cell_type": "code",
   "execution_count": 7,
   "metadata": {},
   "outputs": [
    {
     "data": {
      "text/plain": [
       "'4.34.0'"
      ]
     },
     "execution_count": 7,
     "metadata": {},
     "output_type": "execute_result"
    }
   ],
   "source": [
    "import transformers\n",
    "transformers.__version__"
   ]
  },
  {
   "cell_type": "code",
   "execution_count": 8,
   "metadata": {},
   "outputs": [],
   "source": [
    "# cal = parsedatetime.Calendar()\n",
    "# time_struct, parse_status = cal.parse(\"Sep 25 2019\")\n",
    "# t1 = datetime.datetime(*time_struct[:3])\n",
    "# t1,t2"
   ]
  },
  {
   "cell_type": "code",
   "execution_count": 9,
   "metadata": {},
   "outputs": [],
   "source": [
    "# time = datetime.datetime(*time_struct[0:3])\n",
    "# # calculate the time difference between now and the time\n",
    "# time_diff = datetime.datetime.now() - time\n",
    "# print(time_diff.days)"
   ]
  },
  {
   "cell_type": "code",
   "execution_count": 10,
   "metadata": {},
   "outputs": [
    {
     "name": "stdout",
     "output_type": "stream",
     "text": [
      "(['Tuong', 'Huy'], ['FPT UNIVERSITY Da Nang'], [1569344400.0])\n"
     ]
    }
   ],
   "source": [
    "model_fine_tuned = torch.load(PATH)\n",
    "model_fine_tuned = model_fine_tuned.to(device)\n",
    "\n",
    "with open('tokenizer.pickle', 'rb') as handle:\n",
    "    tokenizer_bert = pickle.load(handle)\n",
    "\n",
    "print(infor_recognition(model_fine_tuned, tokenizer_bert, test_sentence))"
   ]
  }
 ],
 "metadata": {
  "kernelspec": {
   "display_name": "gpu",
   "language": "python",
   "name": "python3"
  },
  "language_info": {
   "codemirror_mode": {
    "name": "ipython",
    "version": 3
   },
   "file_extension": ".py",
   "mimetype": "text/x-python",
   "name": "python",
   "nbconvert_exporter": "python",
   "pygments_lexer": "ipython3",
   "version": "3.9.16"
  }
 },
 "nbformat": 4,
 "nbformat_minor": 2
}
